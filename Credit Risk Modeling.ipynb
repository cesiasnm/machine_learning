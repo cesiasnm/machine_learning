{
 "cells": [
  {
   "attachments": {},
   "cell_type": "markdown",
   "metadata": {},
   "source": [
    "CREDIT RISK MODELING"
   ]
  },
  {
   "cell_type": "code",
   "execution_count": 1,
   "metadata": {},
   "outputs": [
    {
     "data": {
      "text/html": [
       "<div>\n",
       "<style scoped>\n",
       "    .dataframe tbody tr th:only-of-type {\n",
       "        vertical-align: middle;\n",
       "    }\n",
       "\n",
       "    .dataframe tbody tr th {\n",
       "        vertical-align: top;\n",
       "    }\n",
       "\n",
       "    .dataframe thead th {\n",
       "        text-align: right;\n",
       "    }\n",
       "</style>\n",
       "<table border=\"1\" class=\"dataframe\">\n",
       "  <thead>\n",
       "    <tr style=\"text-align: right;\">\n",
       "      <th></th>\n",
       "      <th>person_age</th>\n",
       "      <th>person_income</th>\n",
       "      <th>person_home_ownership</th>\n",
       "      <th>person_emp_length</th>\n",
       "      <th>loan_intent</th>\n",
       "      <th>loan_grade</th>\n",
       "      <th>loan_amnt</th>\n",
       "      <th>loan_int_rate</th>\n",
       "      <th>loan_status</th>\n",
       "      <th>loan_percent_income</th>\n",
       "      <th>cb_person_default_on_file</th>\n",
       "      <th>cb_person_cred_hist_length</th>\n",
       "    </tr>\n",
       "  </thead>\n",
       "  <tbody>\n",
       "    <tr>\n",
       "      <th>0</th>\n",
       "      <td>22</td>\n",
       "      <td>59000</td>\n",
       "      <td>RENT</td>\n",
       "      <td>123.0</td>\n",
       "      <td>PERSONAL</td>\n",
       "      <td>D</td>\n",
       "      <td>35000</td>\n",
       "      <td>16.02</td>\n",
       "      <td>1</td>\n",
       "      <td>0.59</td>\n",
       "      <td>Y</td>\n",
       "      <td>3</td>\n",
       "    </tr>\n",
       "    <tr>\n",
       "      <th>1</th>\n",
       "      <td>21</td>\n",
       "      <td>9600</td>\n",
       "      <td>OWN</td>\n",
       "      <td>5.0</td>\n",
       "      <td>EDUCATION</td>\n",
       "      <td>B</td>\n",
       "      <td>1000</td>\n",
       "      <td>11.14</td>\n",
       "      <td>0</td>\n",
       "      <td>0.10</td>\n",
       "      <td>N</td>\n",
       "      <td>2</td>\n",
       "    </tr>\n",
       "    <tr>\n",
       "      <th>2</th>\n",
       "      <td>25</td>\n",
       "      <td>9600</td>\n",
       "      <td>MORTGAGE</td>\n",
       "      <td>1.0</td>\n",
       "      <td>MEDICAL</td>\n",
       "      <td>C</td>\n",
       "      <td>5500</td>\n",
       "      <td>12.87</td>\n",
       "      <td>1</td>\n",
       "      <td>0.57</td>\n",
       "      <td>N</td>\n",
       "      <td>3</td>\n",
       "    </tr>\n",
       "    <tr>\n",
       "      <th>3</th>\n",
       "      <td>23</td>\n",
       "      <td>65500</td>\n",
       "      <td>RENT</td>\n",
       "      <td>4.0</td>\n",
       "      <td>MEDICAL</td>\n",
       "      <td>C</td>\n",
       "      <td>35000</td>\n",
       "      <td>15.23</td>\n",
       "      <td>1</td>\n",
       "      <td>0.53</td>\n",
       "      <td>N</td>\n",
       "      <td>2</td>\n",
       "    </tr>\n",
       "    <tr>\n",
       "      <th>4</th>\n",
       "      <td>24</td>\n",
       "      <td>54400</td>\n",
       "      <td>RENT</td>\n",
       "      <td>8.0</td>\n",
       "      <td>MEDICAL</td>\n",
       "      <td>C</td>\n",
       "      <td>35000</td>\n",
       "      <td>14.27</td>\n",
       "      <td>1</td>\n",
       "      <td>0.55</td>\n",
       "      <td>Y</td>\n",
       "      <td>4</td>\n",
       "    </tr>\n",
       "    <tr>\n",
       "      <th>...</th>\n",
       "      <td>...</td>\n",
       "      <td>...</td>\n",
       "      <td>...</td>\n",
       "      <td>...</td>\n",
       "      <td>...</td>\n",
       "      <td>...</td>\n",
       "      <td>...</td>\n",
       "      <td>...</td>\n",
       "      <td>...</td>\n",
       "      <td>...</td>\n",
       "      <td>...</td>\n",
       "      <td>...</td>\n",
       "    </tr>\n",
       "    <tr>\n",
       "      <th>32576</th>\n",
       "      <td>57</td>\n",
       "      <td>53000</td>\n",
       "      <td>MORTGAGE</td>\n",
       "      <td>1.0</td>\n",
       "      <td>PERSONAL</td>\n",
       "      <td>C</td>\n",
       "      <td>5800</td>\n",
       "      <td>13.16</td>\n",
       "      <td>0</td>\n",
       "      <td>0.11</td>\n",
       "      <td>N</td>\n",
       "      <td>30</td>\n",
       "    </tr>\n",
       "    <tr>\n",
       "      <th>32577</th>\n",
       "      <td>54</td>\n",
       "      <td>120000</td>\n",
       "      <td>MORTGAGE</td>\n",
       "      <td>4.0</td>\n",
       "      <td>PERSONAL</td>\n",
       "      <td>A</td>\n",
       "      <td>17625</td>\n",
       "      <td>7.49</td>\n",
       "      <td>0</td>\n",
       "      <td>0.15</td>\n",
       "      <td>N</td>\n",
       "      <td>19</td>\n",
       "    </tr>\n",
       "    <tr>\n",
       "      <th>32578</th>\n",
       "      <td>65</td>\n",
       "      <td>76000</td>\n",
       "      <td>RENT</td>\n",
       "      <td>3.0</td>\n",
       "      <td>HOMEIMPROVEMENT</td>\n",
       "      <td>B</td>\n",
       "      <td>35000</td>\n",
       "      <td>10.99</td>\n",
       "      <td>1</td>\n",
       "      <td>0.46</td>\n",
       "      <td>N</td>\n",
       "      <td>28</td>\n",
       "    </tr>\n",
       "    <tr>\n",
       "      <th>32579</th>\n",
       "      <td>56</td>\n",
       "      <td>150000</td>\n",
       "      <td>MORTGAGE</td>\n",
       "      <td>5.0</td>\n",
       "      <td>PERSONAL</td>\n",
       "      <td>B</td>\n",
       "      <td>15000</td>\n",
       "      <td>11.48</td>\n",
       "      <td>0</td>\n",
       "      <td>0.10</td>\n",
       "      <td>N</td>\n",
       "      <td>26</td>\n",
       "    </tr>\n",
       "    <tr>\n",
       "      <th>32580</th>\n",
       "      <td>66</td>\n",
       "      <td>42000</td>\n",
       "      <td>RENT</td>\n",
       "      <td>2.0</td>\n",
       "      <td>MEDICAL</td>\n",
       "      <td>B</td>\n",
       "      <td>6475</td>\n",
       "      <td>9.99</td>\n",
       "      <td>0</td>\n",
       "      <td>0.15</td>\n",
       "      <td>N</td>\n",
       "      <td>30</td>\n",
       "    </tr>\n",
       "  </tbody>\n",
       "</table>\n",
       "<p>32581 rows × 12 columns</p>\n",
       "</div>"
      ],
      "text/plain": [
       "       person_age  person_income person_home_ownership  person_emp_length  \\\n",
       "0              22          59000                  RENT              123.0   \n",
       "1              21           9600                   OWN                5.0   \n",
       "2              25           9600              MORTGAGE                1.0   \n",
       "3              23          65500                  RENT                4.0   \n",
       "4              24          54400                  RENT                8.0   \n",
       "...           ...            ...                   ...                ...   \n",
       "32576          57          53000              MORTGAGE                1.0   \n",
       "32577          54         120000              MORTGAGE                4.0   \n",
       "32578          65          76000                  RENT                3.0   \n",
       "32579          56         150000              MORTGAGE                5.0   \n",
       "32580          66          42000                  RENT                2.0   \n",
       "\n",
       "           loan_intent loan_grade  loan_amnt  loan_int_rate  loan_status  \\\n",
       "0             PERSONAL          D      35000          16.02            1   \n",
       "1            EDUCATION          B       1000          11.14            0   \n",
       "2              MEDICAL          C       5500          12.87            1   \n",
       "3              MEDICAL          C      35000          15.23            1   \n",
       "4              MEDICAL          C      35000          14.27            1   \n",
       "...                ...        ...        ...            ...          ...   \n",
       "32576         PERSONAL          C       5800          13.16            0   \n",
       "32577         PERSONAL          A      17625           7.49            0   \n",
       "32578  HOMEIMPROVEMENT          B      35000          10.99            1   \n",
       "32579         PERSONAL          B      15000          11.48            0   \n",
       "32580          MEDICAL          B       6475           9.99            0   \n",
       "\n",
       "       loan_percent_income cb_person_default_on_file  \\\n",
       "0                     0.59                         Y   \n",
       "1                     0.10                         N   \n",
       "2                     0.57                         N   \n",
       "3                     0.53                         N   \n",
       "4                     0.55                         Y   \n",
       "...                    ...                       ...   \n",
       "32576                 0.11                         N   \n",
       "32577                 0.15                         N   \n",
       "32578                 0.46                         N   \n",
       "32579                 0.10                         N   \n",
       "32580                 0.15                         N   \n",
       "\n",
       "       cb_person_cred_hist_length  \n",
       "0                               3  \n",
       "1                               2  \n",
       "2                               3  \n",
       "3                               2  \n",
       "4                               4  \n",
       "...                           ...  \n",
       "32576                          30  \n",
       "32577                          19  \n",
       "32578                          28  \n",
       "32579                          26  \n",
       "32580                          30  \n",
       "\n",
       "[32581 rows x 12 columns]"
      ]
     },
     "execution_count": 1,
     "metadata": {},
     "output_type": "execute_result"
    }
   ],
   "source": [
    "# Libreria pandas\n",
    "import pandas as pd\n",
    "\n",
    "# Importación de los datos crediticios desde un archivo csv\n",
    "cr_loan = pd.read_csv(\"DatosCrediticios.csv\")\n",
    "\n",
    "# Tabla interactiva de los datos de crédito\n",
    "cr_loan"
   ]
  },
  {
   "cell_type": "code",
   "execution_count": 2,
   "metadata": {},
   "outputs": [
    {
     "data": {
      "image/png": "[encoded data removed]",
      "text/plain": [
       "<Figure size 640x480 with 1 Axes>"
      ]
     },
     "metadata": {},
     "output_type": "display_data"
    }
   ],
   "source": [
    "import matplotlib.pyplot as plt\n",
    "\n",
    "# Distribución de los montos de préstamo\n",
    "patches = plt.hist(x=cr_loan['loan_amnt'], bins='auto', color='blue',alpha=0.7, rwidth=0.85)\n",
    "plt.xlabel(\"Montos de préstamo\")\n",
    "plt.show()"
   ]
  },
  {
   "cell_type": "code",
   "execution_count": 3,
   "metadata": {},
   "outputs": [
    {
     "data": {
      "image/png": "[encoded data removed]",
      "text/plain": [
       "<Figure size 640x480 with 1 Axes>"
      ]
     },
     "metadata": {},
     "output_type": "display_data"
    }
   ],
   "source": [
    "# Diagrama de dispersión de ingresos vs edad\n",
    "plt.scatter(cr_loan['person_income'], cr_loan['person_age'],c='blue', alpha=0.5)\n",
    "plt.xlabel('Ingreso personal')\n",
    "plt.ylabel('Edad')\n",
    "plt.show()"
   ]
  },
  {
   "cell_type": "code",
   "execution_count": 4,
   "metadata": {},
   "outputs": [
    {
     "name": "stdout",
     "output_type": "stream",
     "text": [
      "loan_status            0     1    All\n",
      "loan_intent                          \n",
      "DEBTCONSOLIDATION   3722  1490   5212\n",
      "EDUCATION           5342  1111   6453\n",
      "HOMEIMPROVEMENT     2664   941   3605\n",
      "MEDICAL             4450  1621   6071\n",
      "PERSONAL            4423  1098   5521\n",
      "VENTURE             4872   847   5719\n",
      "All                25473  7108  32581\n"
     ]
    }
   ],
   "source": [
    "# Tabla cruzada de la intención del préstamo y el estado del préstamo\n",
    "print(pd.crosstab(cr_loan['loan_intent'], cr_loan['loan_status'], margins = True))"
   ]
  },
  {
   "cell_type": "code",
   "execution_count": 5,
   "metadata": {},
   "outputs": [
    {
     "name": "stdout",
     "output_type": "stream",
     "text": [
      "loan_status               0                                 1             \\\n",
      "loan_grade                A     B     C    D    E   F  G    A     B    C   \n",
      "person_home_ownership                                                      \n",
      "MORTGAGE               5219  3729  1934  658  178  36  0  239   324  321   \n",
      "OTHER                    23    29    11    9    2   0  0    3     5    6   \n",
      "OWN                     860   770   464  264   26   7  0   66    34   31   \n",
      "RENT                   3602  4222  2710  554  137  28  1  765  1338  981   \n",
      "\n",
      "loan_status                               \n",
      "loan_grade                D    E   F   G  \n",
      "person_home_ownership                     \n",
      "MORTGAGE                553  161  61  31  \n",
      "OTHER                    11    6   2   0  \n",
      "OWN                      18   31   8   5  \n",
      "RENT                   1559  423  99  27  \n"
     ]
    }
   ],
   "source": [
    "# Tabla cruzada de la propiedad de la vivienda, el estado del préstamo y el grado\n",
    "print(pd.crosstab(cr_loan['person_home_ownership'],[cr_loan['loan_status'],cr_loan['loan_grade']]))"
   ]
  },
  {
   "cell_type": "code",
   "execution_count": 6,
   "metadata": {},
   "outputs": [
    {
     "name": "stdout",
     "output_type": "stream",
     "text": [
      "loan_status                   0         1\n",
      "person_home_ownership                    \n",
      "MORTGAGE               0.146504  0.184882\n",
      "OTHER                  0.143784  0.300000\n",
      "OWN                    0.180013  0.297358\n",
      "RENT                   0.144611  0.264859\n"
     ]
    }
   ],
   "source": [
    "# Tabla cruzada de la propiedad de la vivienda, el estado del préstamo y el porcentaje de ingreso promedio\n",
    "print(pd.crosstab(cr_loan['person_home_ownership'], cr_loan['loan_status'], values=cr_loan['loan_percent_income'], aggfunc='mean'))"
   ]
  },
  {
   "cell_type": "code",
   "execution_count": 7,
   "metadata": {},
   "outputs": [
    {
     "data": {
      "image/png": "[encoded data removed]",
      "text/plain": [
       "<Figure size 640x480 with 1 Axes>"
      ]
     },
     "metadata": {},
     "output_type": "display_data"
    }
   ],
   "source": [
    "# Create a box plot of percentage income by loan status\n",
    "cr_loan.boxplot(column = ['loan_percent_income'], by = 'loan_status')\n",
    "plt.title('Porcentaje del ingreso promedio por estado del préstamo')\n",
    "plt.suptitle('')\n",
    "plt.show()"
   ]
  },
  {
   "cell_type": "code",
   "execution_count": 8,
   "metadata": {},
   "outputs": [
    {
     "name": "stdout",
     "output_type": "stream",
     "text": [
      "person_home_ownership  MORTGAGE  OTHER   OWN   RENT\n",
      "loan_status                                        \n",
      "0                         123.0   24.0  31.0   41.0\n",
      "1                          34.0   11.0  17.0  123.0\n",
      "                           max                        min                \n",
      "person_home_ownership MORTGAGE OTHER   OWN  RENT MORTGAGE OTHER  OWN RENT\n",
      "loan_status                                                              \n",
      "0                         38.0  24.0  31.0  41.0      0.0   0.0  0.0  0.0\n",
      "1                         34.0  11.0  17.0  27.0      0.0   0.0  0.0  0.0\n"
     ]
    }
   ],
   "source": [
    "# Tabla cruzada para el estado del préstamo, la propiedad de la vivienda y la duración máxima del empleo\n",
    "print(pd.crosstab(cr_loan['loan_status'],cr_loan['person_home_ownership'],\n",
    "                  values=cr_loan['person_emp_length'], aggfunc='max'))\n",
    "\n",
    "# Matriz de índices donde la duración del empleo sea superior a 60\n",
    "indices = cr_loan[cr_loan['person_emp_length'] > 60].index\n",
    "\n",
    "# Nuevo marco de datos sin registros atípicos\n",
    "cr_loan_new = cr_loan.drop(indices)\n",
    "\n",
    "# Tabla cruzada del nuevo marco de datos incluyendo la duración mínima del empleo\n",
    "print(pd.crosstab(cr_loan_new['loan_status'],cr_loan_new['person_home_ownership'],values=cr_loan_new['person_emp_length'],aggfunc=('min','max')))"
   ]
  },
  {
   "cell_type": "code",
   "execution_count": 9,
   "metadata": {},
   "outputs": [
    {
     "data": {
      "image/png": "[encoded data removed]",
      "text/plain": [
       "<Figure size 640x480 with 1 Axes>"
      ]
     },
     "metadata": {},
     "output_type": "display_data"
    }
   ],
   "source": [
    "# Diagrama de dispersión para la edad y la cantidad\n",
    "plt.scatter(cr_loan['person_age'], cr_loan['loan_amnt'], c='blue', alpha=0.5)\n",
    "plt.xlabel(\"Person Age\")\n",
    "plt.ylabel(\"Loan Amount\")\n",
    "plt.show()"
   ]
  },
  {
   "cell_type": "code",
   "execution_count": 10,
   "metadata": {},
   "outputs": [
    {
     "data": {
      "image/png": "[encoded data removed]",
      "text/plain": [
       "<Figure size 640x480 with 1 Axes>"
      ]
     },
     "metadata": {},
     "output_type": "display_data"
    }
   ],
   "source": [
    "import matplotlib\n",
    "\n",
    "# Marco de datos con personas de menos de 100 años de edad\n",
    "cr_loan_new = cr_loan.drop(cr_loan[cr_loan['person_age'] > 100].index)\n",
    "\n",
    "# Diagrama de dispersión de la edad y la tasa de interés\n",
    "colors = [\"blue\",\"red\"]\n",
    "plt.scatter(cr_loan_new['person_age'], cr_loan_new['loan_int_rate'],\n",
    "            c = cr_loan_new['loan_status'],\n",
    "            cmap = matplotlib.colors.ListedColormap(colors),\n",
    "            alpha=0.5)\n",
    "plt.xlabel(\"Person Age\")\n",
    "plt.ylabel(\"Loan Interest Rate\")\n",
    "plt.show()"
   ]
  },
  {
   "cell_type": "code",
   "execution_count": 11,
   "metadata": {},
   "outputs": [
    {
     "name": "stdout",
     "output_type": "stream",
     "text": [
      "Index(['person_emp_length', 'loan_int_rate'], dtype='object')\n",
      "     person_age  person_income person_home_ownership  person_emp_length  \\\n",
      "105          22          12600              MORTGAGE                NaN   \n",
      "222          24         185000              MORTGAGE                NaN   \n",
      "379          24          16800              MORTGAGE                NaN   \n",
      "407          25          52000                  RENT                NaN   \n",
      "408          22          17352              MORTGAGE                NaN   \n",
      "\n",
      "           loan_intent loan_grade  loan_amnt  loan_int_rate  loan_status  \\\n",
      "105           PERSONAL          A       2000           5.42            1   \n",
      "222          EDUCATION          B      35000          12.42            0   \n",
      "379  DEBTCONSOLIDATION          A       3900            NaN            1   \n",
      "407           PERSONAL          B      24000          10.74            1   \n",
      "408          EDUCATION          C       2250          15.27            0   \n",
      "\n",
      "     loan_percent_income cb_person_default_on_file  cb_person_cred_hist_length  \n",
      "105                 0.16                         N                           4  \n",
      "222                 0.19                         N                           2  \n",
      "379                 0.23                         N                           3  \n",
      "407                 0.46                         N                           2  \n",
      "408                 0.13                         Y                           3  \n"
     ]
    },
    {
     "data": {
      "image/png": "[encoded data removed]",
      "text/plain": [
       "<Figure size 640x480 with 1 Axes>"
      ]
     },
     "metadata": {},
     "output_type": "display_data"
    }
   ],
   "source": [
    "# Matriz de columnas con valores nulos\n",
    "print(cr_loan.columns[cr_loan.isnull().any()])\n",
    "\n",
    "# Cinco filas superiores con valores nulos para la duración del empleo\n",
    "print(cr_loan[cr_loan['person_emp_length'].isnull()].head())\n",
    "\n",
    "# Reemplazo de los valores nulos con la media para la variable duraciones de empleo\n",
    "cr_loan['person_emp_length'].fillna((cr_loan['person_emp_length'].median()), inplace=True)\n",
    "\n",
    "# Histograma de la duración del empleo\n",
    "n, bins, patches = plt.hist(cr_loan['person_emp_length'], bins='auto', color='blue')\n",
    "plt.xlabel(\"Duración del empleo\")\n",
    "plt.show()"
   ]
  },
  {
   "cell_type": "code",
   "execution_count": 12,
   "metadata": {},
   "outputs": [
    {
     "name": "stdout",
     "output_type": "stream",
     "text": [
      "3116\n"
     ]
    }
   ],
   "source": [
    "# Número de vacios\n",
    "print(cr_loan['loan_int_rate'].isnull().sum())\n",
    "\n",
    "# Índices nulos\n",
    "indices = cr_loan[cr_loan['loan_int_rate'].isnull()].index\n",
    "\n",
    "# Nueva base de datos sin valores nulos\n",
    "cr_loan_clean = cr_loan.drop(indices)"
   ]
  },
  {
   "cell_type": "code",
   "execution_count": 15,
   "metadata": {},
   "outputs": [
    {
     "name": "stdout",
     "output_type": "stream",
     "text": [
      "{'C': 1.0, 'class_weight': None, 'dual': False, 'fit_intercept': True, 'intercept_scaling': 1, 'l1_ratio': None, 'max_iter': 100, 'multi_class': 'auto', 'n_jobs': None, 'penalty': 'l2', 'random_state': None, 'solver': 'lbfgs', 'tol': 0.0001, 'verbose': 0, 'warm_start': False}\n"
     ]
    }
   ],
   "source": [
    "from sklearn.linear_model import LogisticRegression\n",
    "import numpy as np\n",
    "\n",
    "# Importación de los datos crediticios sin vacios desde un archivo csv\n",
    "cr_loan_clean = pd.read_csv(\"DatosCrediticios_SinVaciosNiOutliers.csv\")\n",
    "\n",
    "# Variables independiente y dependiente\n",
    "X = cr_loan_clean[['loan_int_rate']]\n",
    "y = cr_loan_clean[['loan_status']]\n",
    "\n",
    "# Modelo de regresión logística y su ajuste\n",
    "clf_logistic_single = LogisticRegression()\n",
    "clf_logistic_single.fit(X, np.ravel(y))\n",
    "\n",
    "# Parametros del modelo\n",
    "print(clf_logistic_single.get_params())"
   ]
  },
  {
   "cell_type": "code",
   "execution_count": 16,
   "metadata": {},
   "outputs": [
    {
     "name": "stdout",
     "output_type": "stream",
     "text": [
      "[-4.45785901]\n"
     ]
    }
   ],
   "source": [
    "print(clf_logistic_single.intercept_)"
   ]
  },
  {
   "cell_type": "code",
   "execution_count": 17,
   "metadata": {},
   "outputs": [
    {
     "name": "stdout",
     "output_type": "stream",
     "text": [
      "[-4.21645549]\n"
     ]
    }
   ],
   "source": [
    "# Variables independientes\n",
    "X_multi = cr_loan_clean[['loan_int_rate','person_emp_length']]\n",
    "\n",
    "# Estatus del préstamo como variable a predecir\n",
    "y = cr_loan_clean[['loan_status']]\n",
    "\n",
    "# Modelo de regresión logística multivariada\n",
    "clf_logistic_multi = LogisticRegression(solver='lbfgs').fit(X_multi, np.ravel(y))\n",
    "\n",
    "# Print the intercept of the model\n",
    "print(clf_logistic_multi.intercept_)"
   ]
  },
  {
   "cell_type": "code",
   "execution_count": 18,
   "metadata": {},
   "outputs": [
    {
     "name": "stdout",
     "output_type": "stream",
     "text": [
      "[[ 1.28517496e-09 -2.27622202e-09 -2.17211991e-05]]\n"
     ]
    }
   ],
   "source": [
    "from sklearn.model_selection import train_test_split\n",
    "\n",
    "# Variables independientes y dependiente\n",
    "# X = cr_loan_clean[['loan_int_rate','person_emp_length','person_income']]\n",
    "X = cr_loan_clean.loc[:,['loan_int_rate','person_emp_length','person_income']]\n",
    "y = cr_loan_clean[['loan_status']]\n",
    "\n",
    "# Conjuntos de entrenamiento y prueba\n",
    "X_train, X_test, y_train, y_test = train_test_split(X, y, test_size=.4, random_state=123)\n",
    "\n",
    "# Ajuste del modelo de regresión logística\n",
    "clf_logistic = LogisticRegression(solver='lbfgs').fit(X_train, np.ravel(y_train))\n",
    "\n",
    "# Coeficientes del modelo\n",
    "print(clf_logistic.coef_)"
   ]
  },
  {
   "cell_type": "code",
   "execution_count": 19,
   "metadata": {},
   "outputs": [
    {
     "name": "stdout",
     "output_type": "stream",
     "text": [
      "Index(['person_age', 'person_income', 'person_emp_length', 'loan_amnt',\n",
      "       'loan_int_rate', 'loan_status', 'loan_percent_income',\n",
      "       'cb_person_cred_hist_length', 'person_home_ownership_MORTGAGE',\n",
      "       'person_home_ownership_OTHER', 'person_home_ownership_OWN',\n",
      "       'person_home_ownership_RENT', 'loan_intent_DEBTCONSOLIDATION',\n",
      "       'loan_intent_EDUCATION', 'loan_intent_HOMEIMPROVEMENT',\n",
      "       'loan_intent_MEDICAL', 'loan_intent_PERSONAL', 'loan_intent_VENTURE',\n",
      "       'loan_grade_A', 'loan_grade_B', 'loan_grade_C', 'loan_grade_D',\n",
      "       'loan_grade_E', 'loan_grade_F', 'loan_grade_G',\n",
      "       'cb_person_default_on_file_N', 'cb_person_default_on_file_Y'],\n",
      "      dtype='object')\n"
     ]
    }
   ],
   "source": [
    "# Conjutos de datos numéricos y no numéricos\n",
    "cred_num = cr_loan_clean.select_dtypes(exclude=['object'])\n",
    "cred_str = cr_loan_clean.select_dtypes(include=['object'])\n",
    "\n",
    "# Codificación dummie al conjunto de variables categóricas\n",
    "cred_str_onehot = pd.get_dummies(cred_str)\n",
    "\n",
    "# Unión de las variables numéricas con las codificadas\n",
    "cr_loan_prep = pd.concat([cred_num, cred_str_onehot], axis=1)\n",
    "\n",
    "# Lista de columnas del nuevo cnjunto de datos\n",
    "print(cr_loan_prep.columns)"
   ]
  },
  {
   "cell_type": "code",
   "execution_count": 20,
   "metadata": {},
   "outputs": [
    {
     "name": "stdout",
     "output_type": "stream",
     "text": [
      "    loan_status  prob_default\n",
      "0             1      0.445779\n",
      "1             1      0.223447\n",
      "2             0      0.288558\n",
      "3             0      0.169358\n",
      "4             1      0.114182\n",
      "5             1      0.490257\n",
      "6             0      0.162057\n",
      "7             0      0.396211\n",
      "8             1      0.217428\n",
      "9             1      0.481440\n",
      "10            1      0.243327\n",
      "11            1      0.404546\n",
      "12            0      0.063662\n",
      "13            0      0.254207\n",
      "14            1      0.416166\n",
      "15            0      0.367900\n",
      "16            0      0.246369\n",
      "17            1      0.027882\n",
      "18            0      0.106589\n",
      "19            0      0.347888\n"
     ]
    }
   ],
   "source": [
    "# Variables independientes y dependiente\n",
    "X = cr_loan_prep.loc[:,cr_loan_prep.columns != 'loan_status']\n",
    "y = cr_loan_prep[['loan_status']]\n",
    "\n",
    "# Conjuntos de entrenamiento y prueba\n",
    "X_train, X_test, y_train, y_test = train_test_split(X, y, test_size=.4, random_state=123)\n",
    "\n",
    "# Entrenamiento del modelo de regresión logística\n",
    "clf_logistic = LogisticRegression(solver='lbfgs').fit(X_train, np.ravel(y_train))\n",
    "\n",
    "# Predicciones de probabilidad para el estado del préstamo usando datos de prueba\n",
    "preds = clf_logistic.predict_proba(X_test)\n",
    "\n",
    "# Marcos de datos de las primeras cinco predicciones y las primeras cinco etiquetas verdaderas\n",
    "preds_df = pd.DataFrame(preds[:,1][0:20], columns = ['prob_default'])\n",
    "true_df = y_test.head(20)\n",
    "\n",
    "# Comparación de los dos marcos de datos\n",
    "print(pd.concat([true_df.reset_index(drop = True), preds_df], axis = 1))"
   ]
  },
  {
   "cell_type": "code",
   "execution_count": 21,
   "metadata": {},
   "outputs": [
    {
     "name": "stdout",
     "output_type": "stream",
     "text": [
      "0    11175\n",
      "1      609\n",
      "Name: loan_status, dtype: int64\n"
     ]
    }
   ],
   "source": [
    "# Dataframe de las probabilidades de incumplimiento\n",
    "preds_df = pd.DataFrame(preds[:,1], columns = ['prob_default'])\n",
    "\n",
    "# Estado del préstamo según la probabilidad asignada\n",
    "preds_df['loan_status'] = preds_df['prob_default'].apply(lambda X: 1 if X > .5 else 0)\n",
    "\n",
    "# Recuento de filas para cada estado de préstamo\n",
    "print(preds_df['loan_status'].value_counts())\n"
   ]
  },
  {
   "cell_type": "code",
   "execution_count": 22,
   "metadata": {},
   "outputs": [
    {
     "name": "stdout",
     "output_type": "stream",
     "text": [
      "              precision    recall  f1-score   support\n",
      "\n",
      " Non-Default       0.81      0.98      0.89      9198\n",
      "     Default       0.71      0.17      0.27      2586\n",
      "\n",
      "    accuracy                           0.80     11784\n",
      "   macro avg       0.76      0.57      0.58     11784\n",
      "weighted avg       0.79      0.80      0.75     11784\n",
      "\n"
     ]
    }
   ],
   "source": [
    "from sklearn.metrics import classification_report\n",
    "\n",
    "# Reporte de clasificación\n",
    "target_names = ['Non-Default', 'Default']\n",
    "print(classification_report(y_test, preds_df['loan_status'], target_names=target_names))"
   ]
  },
  {
   "cell_type": "code",
   "execution_count": 23,
   "metadata": {},
   "outputs": [
    {
     "name": "stdout",
     "output_type": "stream",
     "text": [
      "(array([0.80742729, 0.71264368]), array([0.98097412, 0.16782676]), array([0.8857802 , 0.27167449]), array([9198, 2586], dtype=int64))\n"
     ]
    }
   ],
   "source": [
    "from sklearn.metrics import precision_recall_fscore_support\n",
    "\n",
    "# Valores no promedio del informe\n",
    "print(precision_recall_fscore_support(y_test,preds_df['loan_status']))"
   ]
  },
  {
   "cell_type": "code",
   "execution_count": 24,
   "metadata": {},
   "outputs": [
    {
     "name": "stdout",
     "output_type": "stream",
     "text": [
      "(array([0.80742729, 0.71264368]), array([0.98097412, 0.16782676]))\n"
     ]
    }
   ],
   "source": [
    "# Dos primeros números del informe\n",
    "print(precision_recall_fscore_support(y_test,preds_df['loan_status'])[0:2])"
   ]
  },
  {
   "cell_type": "code",
   "execution_count": 25,
   "metadata": {},
   "outputs": [
    {
     "name": "stdout",
     "output_type": "stream",
     "text": [
      "0.8025288526816021\n"
     ]
    }
   ],
   "source": [
    "# Predicciones para la probabilidad de incumplimiento\n",
    "preds = clf_logistic.predict_proba(X_test)\n",
    "\n",
    "# Puntuación de precisión del modelo\n",
    "print(clf_logistic.score(X_test, y_test))"
   ]
  },
  {
   "cell_type": "code",
   "execution_count": 26,
   "metadata": {},
   "outputs": [
    {
     "data": {
      "image/png": "[encoded data removed]",
      "text/plain": [
       "<Figure size 640x480 with 1 Axes>"
      ]
     },
     "metadata": {},
     "output_type": "display_data"
    }
   ],
   "source": [
    "from sklearn import metrics\n",
    "\n",
    "# Gáfico de la curva ROC de las probabilidades de incumplimiento\n",
    "prob_default = preds[:, 1]\n",
    "fallout, sensitivity, thresholds = metrics.roc_curve(y_test, prob_default)\n",
    "plt.plot(fallout, sensitivity, color = 'darkorange')\n",
    "plt.plot([0, 1], [0, 1], linestyle='--')\n",
    "plt.show()"
   ]
  },
  {
   "cell_type": "code",
   "execution_count": 27,
   "metadata": {},
   "outputs": [
    {
     "data": {
      "text/plain": [
       "0.7643248801355148"
      ]
     },
     "execution_count": 27,
     "metadata": {},
     "output_type": "execute_result"
    }
   ],
   "source": [
    "from sklearn.metrics import roc_auc_score\n",
    "\n",
    "# Área debajo de la curva\n",
    "auc = roc_auc_score(y_test, prob_default)\n",
    "auc"
   ]
  },
  {
   "cell_type": "code",
   "execution_count": 28,
   "metadata": {},
   "outputs": [
    {
     "data": {
      "text/plain": [
       "0.46403712296983757"
      ]
     },
     "execution_count": 28,
     "metadata": {},
     "output_type": "execute_result"
    }
   ],
   "source": [
    "# Estado del préstamo según el umbral 0.4\n",
    "preds_df['loan_status'] = preds_df['prob_default'].apply(lambda x: 1 if x > 0.4 else 0)\n",
    "\n",
    "from sklearn.metrics import confusion_matrix\n",
    "\n",
    "# Matriz de confusión\n",
    "tn, fp, fn, tp = confusion_matrix(y_test,preds_df['loan_status']).ravel()\n",
    "\n",
    "default_recall = tp / (tp + fn)\n",
    "\n",
    "default_recall"
   ]
  },
  {
   "cell_type": "code",
   "execution_count": 29,
   "metadata": {},
   "outputs": [
    {
     "data": {
      "text/plain": [
       "0.16782675947409126"
      ]
     },
     "execution_count": 29,
     "metadata": {},
     "output_type": "execute_result"
    }
   ],
   "source": [
    "# Estado del prestamo según el umbral 0.5\n",
    "preds_df['loan_status'] = preds_df['prob_default'].apply(lambda x: 1 if x > 0.5 else 0)\n",
    "\n",
    "# Matriz de confusión\n",
    "tn, fp, fn, tp = confusion_matrix(y_test,preds_df['loan_status']).ravel()\n",
    "\n",
    "default_recall = tp / (tp + fn)\n",
    "\n",
    "default_recall"
   ]
  },
  {
   "cell_type": "code",
   "execution_count": 30,
   "metadata": {},
   "outputs": [
    {
     "name": "stdout",
     "output_type": "stream",
     "text": [
      "9872265.223119883\n"
     ]
    }
   ],
   "source": [
    "avg_loan_amnt = cr_loan_clean['loan_amnt'].mean()\n",
    "\n",
    "# Valores del estado del préstamo en función del nuevo umbral\n",
    "preds_df['loan_status'] = preds_df['prob_default'].apply(lambda x: 1 if x > 0.4 else 0)\n",
    "\n",
    "# Número de impagos de préstamos a partir de los datos de predicción\n",
    "num_defaults = preds_df['loan_status'].value_counts()[1]\n",
    "\n",
    "# Default recall del reporte de clasificación\n",
    "default_recall = precision_recall_fscore_support(y_test,preds_df['loan_status'])[1][1]\n",
    "\n",
    "# Impacto estimado de la nueva tasa de recuperación predeterminada\n",
    "print(avg_loan_amnt * num_defaults * (1 - default_recall))"
   ]
  },
  {
   "cell_type": "code",
   "execution_count": 31,
   "metadata": {},
   "outputs": [],
   "source": [
    "# Conjuntos de umbrales y respectivas métricas\n",
    "i = 0.2\n",
    "# Umbrales\n",
    "thresh = []\n",
    "# recall de incumplimiento\n",
    "def_recalls = []\n",
    "# recall de no incumplimiento\n",
    "nondef_recalls = []\n",
    "# accuracy\n",
    "accs = []\n",
    "while i < 0.65 :\n",
    "    thresh.append(i)\n",
    "    preds_df['loan_status'] = preds_df['prob_default'].apply(lambda x: 1 if x > i else 0)\n",
    "    def_recalls.append(precision_recall_fscore_support(y_test,preds_df['loan_status'])[1][1])\n",
    "    nondef_recalls.append(precision_recall_fscore_support(y_test,preds_df['loan_status'])[1][0])\n",
    "    accs.append(precision_recall_fscore_support(y_test,preds_df['loan_status'])[0][1])\n",
    "    i = i + 0.025"
   ]
  },
  {
   "cell_type": "code",
   "execution_count": 32,
   "metadata": {},
   "outputs": [
    {
     "data": {
      "image/png": "[encoded data removed]",
      "text/plain": [
       "<Figure size 640x480 with 1 Axes>"
      ]
     },
     "metadata": {},
     "output_type": "display_data"
    }
   ],
   "source": [
    "plt.plot(thresh,def_recalls)\n",
    "plt.plot(thresh,nondef_recalls)\n",
    "plt.plot(thresh,accs)\n",
    "plt.xlabel(\"Probability Threshold\")\n",
    "plt.legend([\"Default Recall\",\"Non-default Recall\",\"Model Accuracy\"])\n",
    "plt.show()"
   ]
  },
  {
   "cell_type": "code",
   "execution_count": 34,
   "metadata": {},
   "outputs": [],
   "source": [
    "# Importación de los datos crediticios con variables dummies listo para modelar csv\n",
    "cr_loan_prep = pd.read_csv(\"DatosCrediticios_ListoParaModelar.csv\")\n",
    "\n",
    "# Variables independientes y dependiente\n",
    "X = cr_loan_prep.loc[:,cr_loan_prep.columns != 'loan_status']\n",
    "y = cr_loan_prep[['loan_status']]\n",
    "\n",
    "# Conjuntos de entrenamiento y prueba\n",
    "X_train, X_test, y_train, y_test = train_test_split(X, y, test_size=.4, random_state=123)"
   ]
  },
  {
   "cell_type": "code",
   "execution_count": 36,
   "metadata": {},
   "outputs": [
    {
     "name": "stdout",
     "output_type": "stream",
     "text": [
      "    loan_status  prob_default\n",
      "0             1      0.990942\n",
      "1             1      0.983987\n",
      "2             0      0.000807\n",
      "3             0      0.001239\n",
      "4             1      0.084892\n",
      "5             1      0.021722\n",
      "6             0      0.010304\n",
      "7             0      0.000375\n",
      "8             1      0.976663\n",
      "9             1      0.992004\n",
      "10            1      0.173216\n",
      "11            1      0.997188\n",
      "12            0      0.002653\n",
      "13            0      0.001659\n",
      "14            1      0.992790\n",
      "15            0      0.004816\n",
      "16            0      0.051240\n",
      "17            1      0.998005\n",
      "18            0      0.413108\n",
      "19            0      0.147902\n"
     ]
    }
   ],
   "source": [
    "# Ajuste del modelo\n",
    "import xgboost as xgb\n",
    "clf_gbt = xgb.XGBClassifier().fit(X_train, np.ravel(y_train))\n",
    "\n",
    "# Predicciones de la probabilidad de default con el modelo\n",
    "gbt_preds = clf_gbt.predict_proba(X_test)\n",
    "\n",
    "# Dataframes con probabilidades de dafault predicha y datos reales\n",
    "preds_df = pd.DataFrame(gbt_preds[:,1][0:20], columns = ['prob_default'])\n",
    "true_df = y_test.head(20)\n",
    "\n",
    "# Comparación de los dos marcos de datos\n",
    "print(pd.concat([true_df.reset_index(drop = True), preds_df], axis = 1))"
   ]
  },
  {
   "cell_type": "code",
   "execution_count": 37,
   "metadata": {},
   "outputs": [
    {
     "data": {
      "text/html": [
       "<div>\n",
       "<style scoped>\n",
       "    .dataframe tbody tr th:only-of-type {\n",
       "        vertical-align: middle;\n",
       "    }\n",
       "\n",
       "    .dataframe tbody tr th {\n",
       "        vertical-align: top;\n",
       "    }\n",
       "\n",
       "    .dataframe thead th {\n",
       "        text-align: right;\n",
       "    }\n",
       "</style>\n",
       "<table border=\"1\" class=\"dataframe\">\n",
       "  <thead>\n",
       "    <tr style=\"text-align: right;\">\n",
       "      <th></th>\n",
       "      <th>gbt_prob_default</th>\n",
       "      <th>lr_prob_default</th>\n",
       "      <th>lgd</th>\n",
       "      <th>loan_amnt</th>\n",
       "    </tr>\n",
       "  </thead>\n",
       "  <tbody>\n",
       "    <tr>\n",
       "      <th>28606</th>\n",
       "      <td>0.990942</td>\n",
       "      <td>0.445779</td>\n",
       "      <td>0.2</td>\n",
       "      <td>15000</td>\n",
       "    </tr>\n",
       "    <tr>\n",
       "      <th>22585</th>\n",
       "      <td>0.983987</td>\n",
       "      <td>0.223447</td>\n",
       "      <td>0.2</td>\n",
       "      <td>11200</td>\n",
       "    </tr>\n",
       "    <tr>\n",
       "      <th>13888</th>\n",
       "      <td>0.000807</td>\n",
       "      <td>0.288558</td>\n",
       "      <td>0.2</td>\n",
       "      <td>15000</td>\n",
       "    </tr>\n",
       "    <tr>\n",
       "      <th>3145</th>\n",
       "      <td>0.001239</td>\n",
       "      <td>0.169358</td>\n",
       "      <td>0.2</td>\n",
       "      <td>10800</td>\n",
       "    </tr>\n",
       "    <tr>\n",
       "      <th>14882</th>\n",
       "      <td>0.084892</td>\n",
       "      <td>0.114182</td>\n",
       "      <td>0.2</td>\n",
       "      <td>3000</td>\n",
       "    </tr>\n",
       "    <tr>\n",
       "      <th>...</th>\n",
       "      <td>...</td>\n",
       "      <td>...</td>\n",
       "      <td>...</td>\n",
       "      <td>...</td>\n",
       "    </tr>\n",
       "    <tr>\n",
       "      <th>22850</th>\n",
       "      <td>0.000727</td>\n",
       "      <td>0.079626</td>\n",
       "      <td>0.2</td>\n",
       "      <td>8000</td>\n",
       "    </tr>\n",
       "    <tr>\n",
       "      <th>27495</th>\n",
       "      <td>0.025336</td>\n",
       "      <td>0.051979</td>\n",
       "      <td>0.2</td>\n",
       "      <td>6600</td>\n",
       "    </tr>\n",
       "    <tr>\n",
       "      <th>27013</th>\n",
       "      <td>0.045719</td>\n",
       "      <td>0.522450</td>\n",
       "      <td>0.2</td>\n",
       "      <td>16000</td>\n",
       "    </tr>\n",
       "    <tr>\n",
       "      <th>1613</th>\n",
       "      <td>0.348737</td>\n",
       "      <td>0.370478</td>\n",
       "      <td>0.2</td>\n",
       "      <td>6000</td>\n",
       "    </tr>\n",
       "    <tr>\n",
       "      <th>10385</th>\n",
       "      <td>0.054850</td>\n",
       "      <td>0.123786</td>\n",
       "      <td>0.2</td>\n",
       "      <td>10000</td>\n",
       "    </tr>\n",
       "  </tbody>\n",
       "</table>\n",
       "<p>11784 rows × 4 columns</p>\n",
       "</div>"
      ],
      "text/plain": [
       "       gbt_prob_default  lr_prob_default  lgd  loan_amnt\n",
       "28606          0.990942         0.445779  0.2      15000\n",
       "22585          0.983987         0.223447  0.2      11200\n",
       "13888          0.000807         0.288558  0.2      15000\n",
       "3145           0.001239         0.169358  0.2      10800\n",
       "14882          0.084892         0.114182  0.2       3000\n",
       "...                 ...              ...  ...        ...\n",
       "22850          0.000727         0.079626  0.2       8000\n",
       "27495          0.025336         0.051979  0.2       6600\n",
       "27013          0.045719         0.522450  0.2      16000\n",
       "1613           0.348737         0.370478  0.2       6000\n",
       "10385          0.054850         0.123786  0.2      10000\n",
       "\n",
       "[11784 rows x 4 columns]"
      ]
     },
     "execution_count": 37,
     "metadata": {},
     "output_type": "execute_result"
    }
   ],
   "source": [
    "# Marco de datos llamado cartera para combinar las probabilidades de incumplimiento para\n",
    "# ambos modelos (XGBoost y regresión logistica), la pérdida en caso de incumplimiento (20%\n",
    "# por ahora) y el préstamo que se asumirá como la exposición en caso de incumplimiento.\n",
    "portfolio = pd.DataFrame({'gbt_prob_default': gbt_preds[:,1], 'lr_prob_default': preds[:,1], 'lgd': [0.2] * 11784, 'loan_amnt': X_test['loan_amnt']})\n",
    "portfolio"
   ]
  },
  {
   "cell_type": "code",
   "execution_count": 38,
   "metadata": {},
   "outputs": [
    {
     "name": "stdout",
     "output_type": "stream",
     "text": [
      "LR perdida esperada:  5596776.979852879\n",
      "GBT perdida esperada:  5383982.8120276965\n"
     ]
    }
   ],
   "source": [
    "# Creación de dos columnas usando la fórmula de la perdida esperada para cada modelo\n",
    "portfolio['gbt_expected_loss'] = portfolio['gbt_prob_default'] * portfolio['lgd'] * portfolio['loan_amnt']\n",
    "portfolio['lr_expected_loss'] = portfolio['lr_prob_default'] * portfolio['lgd'] * portfolio['loan_amnt']\n",
    "\n",
    "# Suma de la perdida esperada para el modelo de regresión lineal\n",
    "print('LR perdida esperada: ', np.sum(portfolio['lr_expected_loss']))\n",
    "\n",
    "# Suma de la perdida esperada para el modelo de XGBoost\n",
    "print('GBT perdida esperada: ', np.sum(portfolio['gbt_expected_loss']))"
   ]
  },
  {
   "cell_type": "code",
   "execution_count": 39,
   "metadata": {},
   "outputs": [
    {
     "name": "stdout",
     "output_type": "stream",
     "text": [
      "[1 1 0 ... 0 0 0]\n",
      "              precision    recall  f1-score   support\n",
      "\n",
      " Non-Default       0.93      0.99      0.96      9198\n",
      "     Default       0.94      0.74      0.83      2586\n",
      "\n",
      "    accuracy                           0.93     11784\n",
      "   macro avg       0.94      0.86      0.89     11784\n",
      "weighted avg       0.93      0.93      0.93     11784\n",
      "\n"
     ]
    }
   ],
   "source": [
    "# Predicción del estado de préstamo\n",
    "gbt_preds = clf_gbt.predict(X_test)\n",
    "\n",
    "# Cadena de valores de los resulta\n",
    "print(gbt_preds)\n",
    "\n",
    "# Reporte de clasificación del modelo\n",
    "target_names = ['Non-Default', 'Default']\n",
    "print(classification_report(y_test, gbt_preds, target_names=target_names))"
   ]
  },
  {
   "cell_type": "code",
   "execution_count": 40,
   "metadata": {},
   "outputs": [
    {
     "name": "stdout",
     "output_type": "stream",
     "text": [
      "{'person_income': 1299.0, 'loan_int_rate': 1001.0, 'loan_percent_income': 515.0, 'loan_amnt': 519.0, 'person_home_ownership_MORTGAGE': 116.0, 'loan_grade_F': 9.0}\n"
     ]
    }
   ],
   "source": [
    "# Selección de algunas variables independientes de ejemplo\n",
    "X = cr_loan_prep[['person_income','loan_int_rate','loan_percent_income','loan_amnt','person_home_ownership_MORTGAGE','loan_grade_F']]\n",
    "y = cr_loan_prep[['loan_status']]\n",
    "\n",
    "# Conjuntos de entrenamiento y prueba\n",
    "X_train, X_test, y_train, y_test = train_test_split(X, y, test_size=.4, random_state=123)\n",
    "\n",
    "# Entrenamiento del modelo\n",
    "clf_gbt = xgb.XGBClassifier().fit(X_train,np.ravel(y_train))\n",
    "\n",
    "# Importancias de las variables en el modelo\n",
    "print(clf_gbt.get_booster().get_score(importance_type = 'weight'))"
   ]
  },
  {
   "cell_type": "code",
   "execution_count": 41,
   "metadata": {},
   "outputs": [
    {
     "data": {
      "image/png": "[encoded data removed]",
      "text/plain": [
       "<Figure size 640x480 with 1 Axes>"
      ]
     },
     "metadata": {},
     "output_type": "display_data"
    }
   ],
   "source": [
    "# Selección de algunas variables independientes de ejemplo\n",
    "X2 = cr_loan_prep[['loan_int_rate','person_emp_length']]\n",
    "y = cr_loan_prep[['loan_status']]\n",
    "\n",
    "# Conjuntos de entrenamiento y prueba\n",
    "X2_train, X2_test, y_train, y_test = train_test_split(X2, y, test_size=.4, random_state=123)\n",
    "\n",
    "# Entrenamiento de un modelo con las 2 variables seleccionadas\n",
    "clf_gbt2 = xgb.XGBClassifier().fit(X2_train,np.ravel(y_train))\n",
    "\n",
    "# Importancia de las variables para este modelo\n",
    "xgb.plot_importance(clf_gbt2, importance_type = 'weight')\n",
    "plt.show()"
   ]
  },
  {
   "cell_type": "code",
   "execution_count": 42,
   "metadata": {},
   "outputs": [
    {
     "data": {
      "image/png": "[encoded data removed]",
      "text/plain": [
       "<Figure size 640x480 with 1 Axes>"
      ]
     },
     "metadata": {},
     "output_type": "display_data"
    }
   ],
   "source": [
    "X3 = cr_loan_prep[['person_income','loan_int_rate','loan_percent_income']]\n",
    "y = cr_loan_prep[['loan_status']]\n",
    "\n",
    "# Conjuntos de entrenamiento y prueba\n",
    "X3_train, X3_test, y_train, y_test = train_test_split(X3, y, test_size=.4, random_state=123)\n",
    "\n",
    "# Entrenamiento de un modelo con las 3 variables seleccionadas\n",
    "clf_gbt3 = xgb.XGBClassifier().fit(X3_train,np.ravel(y_train))\n",
    "\n",
    "# Importancia de las variables para este modelo\n",
    "xgb.plot_importance(clf_gbt3, importance_type = 'weight')\n",
    "plt.show()"
   ]
  },
  {
   "cell_type": "code",
   "execution_count": 43,
   "metadata": {},
   "outputs": [
    {
     "name": "stdout",
     "output_type": "stream",
     "text": [
      "              precision    recall  f1-score   support\n",
      "\n",
      " Non-Default       0.91      0.95      0.93      9198\n",
      "     Default       0.79      0.66      0.72      2586\n",
      "\n",
      "    accuracy                           0.89     11784\n",
      "   macro avg       0.85      0.81      0.83     11784\n",
      "weighted avg       0.88      0.89      0.88     11784\n",
      "\n"
     ]
    }
   ],
   "source": [
    "# Selección de algunas variables independientes de ejemplo\n",
    "X = cr_loan_prep[['person_income','loan_int_rate','loan_percent_income','loan_amnt','person_home_ownership_MORTGAGE']]\n",
    "y = cr_loan_prep[['loan_status']]\n",
    "\n",
    "# Conjuntos de entrenamiento y prueba\n",
    "X_train, X_test, y_train, y_test = train_test_split(X, y, test_size=.4, random_state=123)\n",
    "\n",
    "# Modelo XGBoost 1\n",
    "gbt = xgb.XGBClassifier().fit(X_train,np.ravel(y_train))\n",
    "\n",
    "# Predicción del estado del prestamo usando el modelo 1\n",
    "gbt_preds = gbt.predict(X_test)\n",
    "\n",
    "# Reporte de clasificación del primer modelo\n",
    "target_names = ['Non-Default', 'Default']\n",
    "print(classification_report(y_test, gbt_preds, target_names=target_names))"
   ]
  },
  {
   "cell_type": "code",
   "execution_count": 44,
   "metadata": {},
   "outputs": [
    {
     "name": "stdout",
     "output_type": "stream",
     "text": [
      "              precision    recall  f1-score   support\n",
      "\n",
      " Non-Default       0.91      0.97      0.94      9198\n",
      "     Default       0.88      0.66      0.75      2586\n",
      "\n",
      "    accuracy                           0.90     11784\n",
      "   macro avg       0.89      0.82      0.85     11784\n",
      "weighted avg       0.90      0.90      0.90     11784\n",
      "\n"
     ]
    }
   ],
   "source": [
    "# Selección de algunas variables independientes de ejemplo\n",
    "X2 = cr_loan_prep[['person_income','loan_int_rate','loan_percent_income','person_emp_length', 'person_home_ownership_RENT']]\n",
    "y = cr_loan_prep[['loan_status']]\n",
    "\n",
    "# Conjuntos de entrenamiento y prueba\n",
    "X2_train, X2_test, y_train, y_test = train_test_split(X2, y, test_size=.4, random_state=123)\n",
    "\n",
    "# Modelo XGBoost 2\n",
    "gbt2 = xgb.XGBClassifier().fit(X2_train,np.ravel(y_train))\n",
    "\n",
    "# Predicción del estado del prestamo usando el modelo 2\n",
    "gbt2_preds = gbt2.predict(X2_test)\n",
    "\n",
    "# Reporte de clasificación del segundo modelo\n",
    "print(classification_report(y_test, gbt2_preds, target_names=target_names))"
   ]
  },
  {
   "cell_type": "code",
   "execution_count": 46,
   "metadata": {},
   "outputs": [
    {
     "data": {
      "text/html": [
       "<div>\n",
       "<style scoped>\n",
       "    .dataframe tbody tr th:only-of-type {\n",
       "        vertical-align: middle;\n",
       "    }\n",
       "\n",
       "    .dataframe tbody tr th {\n",
       "        vertical-align: top;\n",
       "    }\n",
       "\n",
       "    .dataframe thead th {\n",
       "        text-align: right;\n",
       "    }\n",
       "</style>\n",
       "<table border=\"1\" class=\"dataframe\">\n",
       "  <thead>\n",
       "    <tr style=\"text-align: right;\">\n",
       "      <th></th>\n",
       "      <th>train-auc-mean</th>\n",
       "      <th>train-auc-std</th>\n",
       "      <th>test-auc-mean</th>\n",
       "      <th>test-auc-std</th>\n",
       "    </tr>\n",
       "  </thead>\n",
       "  <tbody>\n",
       "    <tr>\n",
       "      <th>0</th>\n",
       "      <td>0.898182</td>\n",
       "      <td>0.001318</td>\n",
       "      <td>0.892520</td>\n",
       "      <td>0.004650</td>\n",
       "    </tr>\n",
       "    <tr>\n",
       "      <th>1</th>\n",
       "      <td>0.909256</td>\n",
       "      <td>0.002052</td>\n",
       "      <td>0.902780</td>\n",
       "      <td>0.005053</td>\n",
       "    </tr>\n",
       "    <tr>\n",
       "      <th>2</th>\n",
       "      <td>0.913621</td>\n",
       "      <td>0.002205</td>\n",
       "      <td>0.906834</td>\n",
       "      <td>0.004423</td>\n",
       "    </tr>\n",
       "    <tr>\n",
       "      <th>3</th>\n",
       "      <td>0.918600</td>\n",
       "      <td>0.001092</td>\n",
       "      <td>0.910779</td>\n",
       "      <td>0.005221</td>\n",
       "    </tr>\n",
       "    <tr>\n",
       "      <th>4</th>\n",
       "      <td>0.922251</td>\n",
       "      <td>0.001818</td>\n",
       "      <td>0.914193</td>\n",
       "      <td>0.004422</td>\n",
       "    </tr>\n",
       "  </tbody>\n",
       "</table>\n",
       "</div>"
      ],
      "text/plain": [
       "   train-auc-mean  train-auc-std  test-auc-mean  test-auc-std\n",
       "0        0.898182       0.001318       0.892520      0.004650\n",
       "1        0.909256       0.002052       0.902780      0.005053\n",
       "2        0.913621       0.002205       0.906834      0.004423\n",
       "3        0.918600       0.001092       0.910779      0.005221\n",
       "4        0.922251       0.001818       0.914193      0.004422"
      ]
     },
     "execution_count": 46,
     "metadata": {},
     "output_type": "execute_result"
    }
   ],
   "source": [
    "# Variables independientes y dependiente\n",
    "X = cr_loan_prep.loc[:,cr_loan_prep.columns != 'loan_status']\n",
    "y = cr_loan_prep[['loan_status']]\n",
    "\n",
    "# Conjuntos de entrenamiento y prueba\n",
    "X_train, X_test, y_train, y_test = train_test_split(X, y, test_size=.4, random_state=123)\n",
    "\n",
    "# Ajuste del modelo\n",
    "gbt = xgb.XGBClassifier().fit(X_train, np.ravel(y_train))\n",
    "\n",
    "# Parametros\n",
    "params = {'eval_metric': 'auc', 'objective': 'binary:logistic', 'seed': 123}\n",
    "\n",
    "# Número de pliegues y interacciones\n",
    "n_folds = 5\n",
    "early_stopping = 10\n",
    "\n",
    "# Matriz de entrenamiento para XGBoost\n",
    "DTrain = xgb.DMatrix(X_train, label = y_train)\n",
    "\n",
    "# Dataframe de la validación cruzada\n",
    "cv_df = xgb.cv(params, DTrain, num_boost_round = 5, nfold=n_folds, early_stopping_rounds=early_stopping)\n",
    "cv_df"
   ]
  },
  {
   "cell_type": "code",
   "execution_count": 47,
   "metadata": {},
   "outputs": [
    {
     "data": {
      "text/html": [
       "<div>\n",
       "<style scoped>\n",
       "    .dataframe tbody tr th:only-of-type {\n",
       "        vertical-align: middle;\n",
       "    }\n",
       "\n",
       "    .dataframe tbody tr th {\n",
       "        vertical-align: top;\n",
       "    }\n",
       "\n",
       "    .dataframe thead th {\n",
       "        text-align: right;\n",
       "    }\n",
       "</style>\n",
       "<table border=\"1\" class=\"dataframe\">\n",
       "  <thead>\n",
       "    <tr style=\"text-align: right;\">\n",
       "      <th></th>\n",
       "      <th>train-auc-mean</th>\n",
       "      <th>train-auc-std</th>\n",
       "      <th>test-auc-mean</th>\n",
       "      <th>test-auc-std</th>\n",
       "    </tr>\n",
       "  </thead>\n",
       "  <tbody>\n",
       "    <tr>\n",
       "      <th>0</th>\n",
       "      <td>0.897568</td>\n",
       "      <td>0.000909</td>\n",
       "      <td>0.892900</td>\n",
       "      <td>0.008258</td>\n",
       "    </tr>\n",
       "    <tr>\n",
       "      <th>1</th>\n",
       "      <td>0.906985</td>\n",
       "      <td>0.002611</td>\n",
       "      <td>0.901162</td>\n",
       "      <td>0.007519</td>\n",
       "    </tr>\n",
       "    <tr>\n",
       "      <th>2</th>\n",
       "      <td>0.913678</td>\n",
       "      <td>0.001404</td>\n",
       "      <td>0.907910</td>\n",
       "      <td>0.007753</td>\n",
       "    </tr>\n",
       "    <tr>\n",
       "      <th>3</th>\n",
       "      <td>0.919123</td>\n",
       "      <td>0.000921</td>\n",
       "      <td>0.912130</td>\n",
       "      <td>0.007145</td>\n",
       "    </tr>\n",
       "    <tr>\n",
       "      <th>4</th>\n",
       "      <td>0.922864</td>\n",
       "      <td>0.001097</td>\n",
       "      <td>0.914962</td>\n",
       "      <td>0.006706</td>\n",
       "    </tr>\n",
       "    <tr>\n",
       "      <th>...</th>\n",
       "      <td>...</td>\n",
       "      <td>...</td>\n",
       "      <td>...</td>\n",
       "      <td>...</td>\n",
       "    </tr>\n",
       "    <tr>\n",
       "      <th>595</th>\n",
       "      <td>1.000000</td>\n",
       "      <td>0.000000</td>\n",
       "      <td>0.942407</td>\n",
       "      <td>0.005217</td>\n",
       "    </tr>\n",
       "    <tr>\n",
       "      <th>596</th>\n",
       "      <td>1.000000</td>\n",
       "      <td>0.000000</td>\n",
       "      <td>0.942412</td>\n",
       "      <td>0.005203</td>\n",
       "    </tr>\n",
       "    <tr>\n",
       "      <th>597</th>\n",
       "      <td>1.000000</td>\n",
       "      <td>0.000000</td>\n",
       "      <td>0.942423</td>\n",
       "      <td>0.005219</td>\n",
       "    </tr>\n",
       "    <tr>\n",
       "      <th>598</th>\n",
       "      <td>1.000000</td>\n",
       "      <td>0.000000</td>\n",
       "      <td>0.942399</td>\n",
       "      <td>0.005226</td>\n",
       "    </tr>\n",
       "    <tr>\n",
       "      <th>599</th>\n",
       "      <td>1.000000</td>\n",
       "      <td>0.000000</td>\n",
       "      <td>0.942381</td>\n",
       "      <td>0.005251</td>\n",
       "    </tr>\n",
       "  </tbody>\n",
       "</table>\n",
       "<p>600 rows × 4 columns</p>\n",
       "</div>"
      ],
      "text/plain": [
       "     train-auc-mean  train-auc-std  test-auc-mean  test-auc-std\n",
       "0          0.897568       0.000909       0.892900      0.008258\n",
       "1          0.906985       0.002611       0.901162      0.007519\n",
       "2          0.913678       0.001404       0.907910      0.007753\n",
       "3          0.919123       0.000921       0.912130      0.007145\n",
       "4          0.922864       0.001097       0.914962      0.006706\n",
       "..              ...            ...            ...           ...\n",
       "595        1.000000       0.000000       0.942407      0.005217\n",
       "596        1.000000       0.000000       0.942412      0.005203\n",
       "597        1.000000       0.000000       0.942423      0.005219\n",
       "598        1.000000       0.000000       0.942399      0.005226\n",
       "599        1.000000       0.000000       0.942381      0.005251\n",
       "\n",
       "[600 rows x 4 columns]"
      ]
     },
     "execution_count": 47,
     "metadata": {},
     "output_type": "execute_result"
    }
   ],
   "source": [
    "# Validación cruzada con más pliegues e interacciones\n",
    "cv_results_big = xgb.cv(params, DTrain, num_boost_round = 600, nfold=10, shuffle = True)\n",
    "cv_results_big"
   ]
  },
  {
   "cell_type": "code",
   "execution_count": 48,
   "metadata": {},
   "outputs": [
    {
     "name": "stdout",
     "output_type": "stream",
     "text": [
      "0.94\n"
     ]
    }
   ],
   "source": [
    "# Media de los puntajes AUC del test\n",
    "print(np.mean(cv_results_big['test-auc-mean']).round(2))"
   ]
  },
  {
   "cell_type": "code",
   "execution_count": 49,
   "metadata": {},
   "outputs": [
    {
     "data": {
      "image/png": "[encoded data removed]",
      "text/plain": [
       "<Figure size 640x480 with 1 Axes>"
      ]
     },
     "metadata": {},
     "output_type": "display_data"
    }
   ],
   "source": [
    "# Gráfico de las puntuaciones AUC del test para cada iteración\n",
    "plt.plot(cv_results_big['test-auc-mean'])\n",
    "plt.title('Puntaje Test AUC sobre 600 iteraciones')\n",
    "plt.xlabel('Iteration Number')\n",
    "plt.ylabel('Test AUC Score')\n",
    "plt.show()"
   ]
  },
  {
   "cell_type": "code",
   "execution_count": 50,
   "metadata": {},
   "outputs": [
    {
     "name": "stdout",
     "output_type": "stream",
     "text": [
      "[0.94048427 0.93256393 0.93324282 0.92462653]\n"
     ]
    }
   ],
   "source": [
    "# Modelo de árbol potenciado por gradiente usando dos hiperparámetros\n",
    "gbt = xgb.XGBClassifier(learning_rate = 0.1, max_depth = 7)\n",
    "\n",
    "from sklearn.model_selection import cross_val_score\n",
    "\n",
    "# Puntajes de validación cruzada para 4 pliegues\n",
    "cv_scores = cross_val_score(gbt, X_train, np.ravel(y_train), cv = 4)\n",
    "\n",
    "# Puntuaciones de validación cruzada\n",
    "print(cv_scores)"
   ]
  },
  {
   "cell_type": "code",
   "execution_count": 51,
   "metadata": {},
   "outputs": [
    {
     "name": "stdout",
     "output_type": "stream",
     "text": [
      "Precisión promedio: 0.93 (+/- 0.01)\n"
     ]
    }
   ],
   "source": [
    "# Precisión promedio y la desviación estándar de las puntuaciones\n",
    "print(\"Precisión promedio: %0.2f (+/- %0.2f)\" % (cv_scores.mean(), cv_scores.std() * 2))"
   ]
  },
  {
   "cell_type": "code",
   "execution_count": 52,
   "metadata": {},
   "outputs": [
    {
     "name": "stdout",
     "output_type": "stream",
     "text": [
      "0    3877\n",
      "1    3877\n",
      "Name: loan_status, dtype: int64\n"
     ]
    }
   ],
   "source": [
    "# Concatenación de las muestras de entrenamiento\n",
    "X_y_train = pd.concat([X_train.reset_index(drop = True), y_train.reset_index(drop = True)], axis = 1)\n",
    "\n",
    "# Cuenta de incumplidos y no incumplidos\n",
    "count_nondefault, count_default = X_y_train['loan_status'].value_counts()\n",
    "\n",
    "# Conjunto de datos para defaults and non-defaults\n",
    "nondefaults = X_y_train[X_y_train['loan_status'] == 0]\n",
    "defaults = X_y_train[X_y_train['loan_status'] == 1]\n",
    "\n",
    "# Submuestreo de non-defaults\n",
    "nondefaults_under = nondefaults.sample(count_default)\n",
    "\n",
    "# Concatenación de submuestreo de nondefaults with defaults\n",
    "X_y_train_under = pd.concat([nondefaults_under.reset_index(drop = True), defaults.reset_index(drop = True)], axis = 0)\n",
    "\n",
    "# Conteo del estado del préstamo\n",
    "print(X_y_train_under['loan_status'].value_counts())"
   ]
  },
  {
   "cell_type": "code",
   "execution_count": 53,
   "metadata": {},
   "outputs": [],
   "source": [
    "# Variables independientes y dependiente\n",
    "X = cr_loan_prep.loc[:,cr_loan_prep.columns != 'loan_status']\n",
    "y = cr_loan_prep[['loan_status']]\n",
    "\n",
    "# Conjuntos de entrenamiento y prueba\n",
    "X_train, X_test, y_train, y_test = train_test_split(X, y, test_size=.4, random_state=123)\n",
    "\n",
    "# Ajuste del modelo\n",
    "clf_gbt = xgb.XGBClassifier().fit(X_train, np.ravel(y_train))\n",
    "\n",
    "# Predicciones de la probabilidad de default con el modelo\n",
    "gbt_preds = clf_gbt.predict(X_test)"
   ]
  },
  {
   "cell_type": "code",
   "execution_count": 54,
   "metadata": {},
   "outputs": [],
   "source": [
    "# Variables independientes y dependiente\n",
    "X_train_under = X_y_train_under.loc[:,X_y_train_under.columns != 'loan_status']\n",
    "y_train_under = X_y_train_under[['loan_status']]\n",
    "\n",
    "# Ajuste del modelo\n",
    "clf_gbt2 = xgb.XGBClassifier().fit(X_train_under, np.ravel(y_train_under))\n",
    "\n",
    "# Predicciones de la probabilidad de default con el modelo\n",
    "gbt2_preds = clf_gbt2.predict(X_test)"
   ]
  },
  {
   "cell_type": "code",
   "execution_count": 55,
   "metadata": {},
   "outputs": [
    {
     "name": "stdout",
     "output_type": "stream",
     "text": [
      "              precision    recall  f1-score   support\n",
      "\n",
      " Non-Default       0.93      0.99      0.96      9198\n",
      "     Default       0.94      0.74      0.83      2586\n",
      "\n",
      "    accuracy                           0.93     11784\n",
      "   macro avg       0.94      0.86      0.89     11784\n",
      "weighted avg       0.93      0.93      0.93     11784\n",
      "\n",
      "              precision    recall  f1-score   support\n",
      "\n",
      " Non-Default       0.95      0.91      0.93      9198\n",
      "     Default       0.73      0.82      0.77      2586\n",
      "\n",
      "    accuracy                           0.89     11784\n",
      "   macro avg       0.84      0.87      0.85     11784\n",
      "weighted avg       0.90      0.89      0.90     11784\n",
      "\n"
     ]
    }
   ],
   "source": [
    "# Reportes de clasificación\n",
    "target_names = ['Non-Default', 'Default']\n",
    "print(classification_report(y_test, gbt_preds, target_names=target_names))\n",
    "print(classification_report(y_test, gbt2_preds, target_names=target_names))"
   ]
  },
  {
   "cell_type": "code",
   "execution_count": 56,
   "metadata": {},
   "outputs": [
    {
     "name": "stdout",
     "output_type": "stream",
     "text": [
      "[[9085  113]\n",
      " [ 677 1909]]\n",
      "[[8416  782]\n",
      " [ 469 2117]]\n"
     ]
    }
   ],
   "source": [
    "# Matriz de confusión de ambos modelos\n",
    "print(confusion_matrix(y_test,gbt_preds))\n",
    "print(confusion_matrix(y_test,gbt2_preds))"
   ]
  },
  {
   "cell_type": "code",
   "execution_count": 57,
   "metadata": {},
   "outputs": [
    {
     "name": "stdout",
     "output_type": "stream",
     "text": [
      "0.8629602218579747\n",
      "0.8668101710802659\n"
     ]
    }
   ],
   "source": [
    "# Comparación de los puntajes AUC de los modelos\n",
    "print(roc_auc_score(y_test, gbt_preds))\n",
    "print(roc_auc_score(y_test, gbt2_preds))"
   ]
  },
  {
   "cell_type": "code",
   "execution_count": 58,
   "metadata": {},
   "outputs": [
    {
     "data": {
      "text/html": [
       "<div>\n",
       "<style scoped>\n",
       "    .dataframe tbody tr th:only-of-type {\n",
       "        vertical-align: middle;\n",
       "    }\n",
       "\n",
       "    .dataframe tbody tr th {\n",
       "        vertical-align: top;\n",
       "    }\n",
       "\n",
       "    .dataframe thead th {\n",
       "        text-align: right;\n",
       "    }\n",
       "</style>\n",
       "<table border=\"1\" class=\"dataframe\">\n",
       "  <thead>\n",
       "    <tr style=\"text-align: right;\">\n",
       "      <th></th>\n",
       "      <th>prob_default</th>\n",
       "      <th>loan_status</th>\n",
       "    </tr>\n",
       "  </thead>\n",
       "  <tbody>\n",
       "    <tr>\n",
       "      <th>0</th>\n",
       "      <td>0.445779</td>\n",
       "      <td>1</td>\n",
       "    </tr>\n",
       "    <tr>\n",
       "      <th>1</th>\n",
       "      <td>0.223447</td>\n",
       "      <td>0</td>\n",
       "    </tr>\n",
       "    <tr>\n",
       "      <th>2</th>\n",
       "      <td>0.288558</td>\n",
       "      <td>0</td>\n",
       "    </tr>\n",
       "    <tr>\n",
       "      <th>3</th>\n",
       "      <td>0.169358</td>\n",
       "      <td>0</td>\n",
       "    </tr>\n",
       "    <tr>\n",
       "      <th>4</th>\n",
       "      <td>0.114182</td>\n",
       "      <td>0</td>\n",
       "    </tr>\n",
       "    <tr>\n",
       "      <th>...</th>\n",
       "      <td>...</td>\n",
       "      <td>...</td>\n",
       "    </tr>\n",
       "    <tr>\n",
       "      <th>11779</th>\n",
       "      <td>0.079626</td>\n",
       "      <td>0</td>\n",
       "    </tr>\n",
       "    <tr>\n",
       "      <th>11780</th>\n",
       "      <td>0.051979</td>\n",
       "      <td>0</td>\n",
       "    </tr>\n",
       "    <tr>\n",
       "      <th>11781</th>\n",
       "      <td>0.522450</td>\n",
       "      <td>1</td>\n",
       "    </tr>\n",
       "    <tr>\n",
       "      <th>11782</th>\n",
       "      <td>0.370478</td>\n",
       "      <td>0</td>\n",
       "    </tr>\n",
       "    <tr>\n",
       "      <th>11783</th>\n",
       "      <td>0.123786</td>\n",
       "      <td>0</td>\n",
       "    </tr>\n",
       "  </tbody>\n",
       "</table>\n",
       "<p>11784 rows × 2 columns</p>\n",
       "</div>"
      ],
      "text/plain": [
       "       prob_default  loan_status\n",
       "0          0.445779            1\n",
       "1          0.223447            0\n",
       "2          0.288558            0\n",
       "3          0.169358            0\n",
       "4          0.114182            0\n",
       "...             ...          ...\n",
       "11779      0.079626            0\n",
       "11780      0.051979            0\n",
       "11781      0.522450            1\n",
       "11782      0.370478            0\n",
       "11783      0.123786            0\n",
       "\n",
       "[11784 rows x 2 columns]"
      ]
     },
     "execution_count": 58,
     "metadata": {},
     "output_type": "execute_result"
    }
   ],
   "source": [
    "# Variables independientes y dependiente\n",
    "\n",
    "X = cr_loan_prep.loc[:,cr_loan_prep.columns != 'loan_status']\n",
    "y = cr_loan_prep[['loan_status']]\n",
    "\n",
    "# Conjuntos de entrenamiento y prueba\n",
    "X_train, X_test, y_train, y_test = train_test_split(X, y, test_size=.4, random_state=123)\n",
    "\n",
    "# Ajuste del modelo de regresión logística\n",
    "clf_logistic = LogisticRegression(solver='lbfgs').fit(X_train, np.ravel(y_train))\n",
    "\n",
    "# Predicciones de probabilidad para el estado del préstamo usando datos de prueba\n",
    "preds_df_lr = clf_logistic.predict_proba(X_test)\n",
    "preds_df_lr\n",
    "\n",
    "# Dataframe de las probabilidades de incumplimiento\n",
    "preds_df_lr = pd.DataFrame(preds_df_lr[:,1], columns = ['prob_default'])\n",
    "\n",
    "# Estado del préstamo según la probabilidad asignada\n",
    "preds_df_lr['loan_status'] = preds_df_lr['prob_default'].apply(lambda X: 1 if X > .4 else 0)\n",
    "preds_df_lr\n"
   ]
  },
  {
   "cell_type": "code",
   "execution_count": 59,
   "metadata": {},
   "outputs": [
    {
     "data": {
      "text/html": [
       "<div>\n",
       "<style scoped>\n",
       "    .dataframe tbody tr th:only-of-type {\n",
       "        vertical-align: middle;\n",
       "    }\n",
       "\n",
       "    .dataframe tbody tr th {\n",
       "        vertical-align: top;\n",
       "    }\n",
       "\n",
       "    .dataframe thead th {\n",
       "        text-align: right;\n",
       "    }\n",
       "</style>\n",
       "<table border=\"1\" class=\"dataframe\">\n",
       "  <thead>\n",
       "    <tr style=\"text-align: right;\">\n",
       "      <th></th>\n",
       "      <th>prob_default</th>\n",
       "      <th>loan_status</th>\n",
       "    </tr>\n",
       "  </thead>\n",
       "  <tbody>\n",
       "    <tr>\n",
       "      <th>0</th>\n",
       "      <td>0.982387</td>\n",
       "      <td>1</td>\n",
       "    </tr>\n",
       "    <tr>\n",
       "      <th>1</th>\n",
       "      <td>0.975163</td>\n",
       "      <td>1</td>\n",
       "    </tr>\n",
       "    <tr>\n",
       "      <th>2</th>\n",
       "      <td>0.003474</td>\n",
       "      <td>0</td>\n",
       "    </tr>\n",
       "    <tr>\n",
       "      <th>3</th>\n",
       "      <td>0.005457</td>\n",
       "      <td>0</td>\n",
       "    </tr>\n",
       "    <tr>\n",
       "      <th>4</th>\n",
       "      <td>0.119876</td>\n",
       "      <td>0</td>\n",
       "    </tr>\n",
       "    <tr>\n",
       "      <th>...</th>\n",
       "      <td>...</td>\n",
       "      <td>...</td>\n",
       "    </tr>\n",
       "    <tr>\n",
       "      <th>11779</th>\n",
       "      <td>0.003521</td>\n",
       "      <td>0</td>\n",
       "    </tr>\n",
       "    <tr>\n",
       "      <th>11780</th>\n",
       "      <td>0.028647</td>\n",
       "      <td>0</td>\n",
       "    </tr>\n",
       "    <tr>\n",
       "      <th>11781</th>\n",
       "      <td>0.107442</td>\n",
       "      <td>0</td>\n",
       "    </tr>\n",
       "    <tr>\n",
       "      <th>11782</th>\n",
       "      <td>0.217885</td>\n",
       "      <td>0</td>\n",
       "    </tr>\n",
       "    <tr>\n",
       "      <th>11783</th>\n",
       "      <td>0.101885</td>\n",
       "      <td>0</td>\n",
       "    </tr>\n",
       "  </tbody>\n",
       "</table>\n",
       "<p>11784 rows × 2 columns</p>\n",
       "</div>"
      ],
      "text/plain": [
       "       prob_default  loan_status\n",
       "0          0.982387            1\n",
       "1          0.975163            1\n",
       "2          0.003474            0\n",
       "3          0.005457            0\n",
       "4          0.119876            0\n",
       "...             ...          ...\n",
       "11779      0.003521            0\n",
       "11780      0.028647            0\n",
       "11781      0.107442            0\n",
       "11782      0.217885            0\n",
       "11783      0.101885            0\n",
       "\n",
       "[11784 rows x 2 columns]"
      ]
     },
     "execution_count": 59,
     "metadata": {},
     "output_type": "execute_result"
    }
   ],
   "source": [
    "# Ajuste del modelo XGBoost\n",
    "clf_gbt = xgb.XGBClassifier(base_score=0.5, colsample_bylevel=1, colsample_bytree=1, gamma=0, learning_rate=0.1, max_delta_step=0, max_depth=7, min_child_weight=1, min_split_loss=1.0, n_estimators=100, n_jobs=1, random_state=0, reg_alpha=0, reg_lambda=1.2, scale_pos_weight=1, seed=123, subsample=1).fit(X_train, np.ravel(y_train))\n",
    "\n",
    "# Predicciones de la probabilidad de default con el modelo\n",
    "preds_df_gbt = clf_gbt.predict_proba(X_test)\n",
    "\n",
    "# Dataframe de las probabilidades de incumplimiento\n",
    "preds_df_gbt = pd.DataFrame(preds_df_gbt[:,1], columns = ['prob_default'])\n",
    "\n",
    "# Estado del préstamo según la probabilidad asignada\n",
    "preds_df_gbt['loan_status'] = preds_df_gbt['prob_default'].apply(lambda X: 1 if X > .4 else 0)\n",
    "preds_df_gbt"
   ]
  },
  {
   "cell_type": "code",
   "execution_count": 60,
   "metadata": {},
   "outputs": [
    {
     "name": "stdout",
     "output_type": "stream",
     "text": [
      "              precision    recall  f1-score   support\n",
      "\n",
      " Non-Default       0.86      0.92      0.89      9198\n",
      "     Default       0.62      0.46      0.53      2586\n",
      "\n",
      "    accuracy                           0.82     11784\n",
      "   macro avg       0.74      0.69      0.71     11784\n",
      "weighted avg       0.81      0.82      0.81     11784\n",
      "\n"
     ]
    }
   ],
   "source": [
    "# Reporte de de clasificación de regresión logística\n",
    "target_names = ['Non-Default', 'Default']\n",
    "print(classification_report(y_test, preds_df_lr['loan_status'], target_names=target_names))"
   ]
  },
  {
   "cell_type": "code",
   "execution_count": 61,
   "metadata": {},
   "outputs": [
    {
     "name": "stdout",
     "output_type": "stream",
     "text": [
      "              precision    recall  f1-score   support\n",
      "\n",
      " Non-Default       0.93      0.99      0.96      9198\n",
      "     Default       0.94      0.73      0.82      2586\n",
      "\n",
      "    accuracy                           0.93     11784\n",
      "   macro avg       0.93      0.86      0.89     11784\n",
      "weighted avg       0.93      0.93      0.93     11784\n",
      "\n"
     ]
    }
   ],
   "source": [
    "# Reporte de clasificación de árboles potenciados por gradiente\n",
    "print(classification_report(y_test, preds_df_gbt['loan_status'], target_names=target_names))"
   ]
  },
  {
   "cell_type": "code",
   "execution_count": 62,
   "metadata": {},
   "outputs": [
    {
     "name": "stdout",
     "output_type": "stream",
     "text": [
      "0.7108943782814463\n"
     ]
    }
   ],
   "source": [
    "# Puntuaciones F-1 de incumplimiento para la regresión logística\n",
    "print(precision_recall_fscore_support(y_test,preds_df_lr['loan_status'], average = 'macro')[2])"
   ]
  },
  {
   "cell_type": "code",
   "execution_count": 63,
   "metadata": {},
   "outputs": [
    {
     "name": "stdout",
     "output_type": "stream",
     "text": [
      "0.8909014142736051\n"
     ]
    }
   ],
   "source": [
    "# Puntuaciones F-1 de incumplimiento para el modelo de arboles poteciados por gradiente\n",
    "print(precision_recall_fscore_support(y_test,preds_df_gbt['loan_status'], average = 'macro')[2])"
   ]
  },
  {
   "cell_type": "code",
   "execution_count": 64,
   "metadata": {},
   "outputs": [
    {
     "data": {
      "image/png": "[encoded data removed]",
      "text/plain": [
       "<Figure size 640x480 with 1 Axes>"
      ]
     },
     "metadata": {},
     "output_type": "display_data"
    }
   ],
   "source": [
    "# Predicciones de probabilidad para el estado del préstamo usando datos de prueba\n",
    "clf_logistic_preds = np.array(preds_df_lr['prob_default'])\n",
    "clf_gbt_preds = np.array(preds_df_gbt['prob_default'])\n",
    "\n",
    "# Componentes del gráfico ROC\n",
    "fallout_lr, sensitivity_lr, thresholds_lr = metrics.roc_curve(y_test, clf_logistic_preds)\n",
    "fallout_gbt, sensitivity_gbt, thresholds_gbt = metrics.roc_curve(y_test, clf_gbt_preds)\n",
    "\n",
    "# Gráfico ROC con ambos componentes\n",
    "plt.plot(fallout_lr, sensitivity_lr, color = 'blue', label='%s' % 'Logistic Regression')\n",
    "plt.plot(fallout_gbt, sensitivity_gbt, color = 'green', label='%s' % 'Gradient Boosted Tree')\n",
    "plt.plot([0, 1], [0, 1], linestyle='--', label='%s' % 'Random Prediction')\n",
    "plt.title(\"Gráfico ROC para LR y GBT sobre la probabilidad de incumplimiento\")\n",
    "plt.xlabel('Fall-out')\n",
    "plt.ylabel('Sensitivity')\n",
    "plt.legend()\n",
    "plt.show()"
   ]
  },
  {
   "cell_type": "code",
   "execution_count": 65,
   "metadata": {},
   "outputs": [
    {
     "name": "stdout",
     "output_type": "stream",
     "text": [
      "Logistic Regression AUC Score: 0.76\n",
      "Gradient Boosted Tree AUC Score: 0.94\n"
     ]
    }
   ],
   "source": [
    "# Puntaje AUC de la regresión logística\n",
    "print(\"Logistic Regression AUC Score: %0.2f\" % roc_auc_score(y_test, clf_logistic_preds))\n",
    "\n",
    "# Puntaje AUC de los arboles potenciados por gradiente\n",
    "print(\"Gradient Boosted Tree AUC Score: %0.2f\" % roc_auc_score(y_test, clf_gbt_preds))"
   ]
  },
  {
   "cell_type": "code",
   "execution_count": 66,
   "metadata": {},
   "outputs": [
    {
     "data": {
      "text/plain": [
       "array([0.07886231, 0.06610942, 0.10835913, 0.13505074, 0.16063348,\n",
       "       0.18333333, 0.21268657, 0.24099099, 0.48036649, 0.72677596,\n",
       "       0.73354232, 0.70547945, 0.68      , 0.73913043, 0.55555556,\n",
       "       0.4       ])"
      ]
     },
     "execution_count": 66,
     "metadata": {},
     "output_type": "execute_result"
    }
   ],
   "source": [
    "from sklearn.calibration import calibration_curve\n",
    "\n",
    "# Fracción de positivos\n",
    "frac_of_pos_lr = calibration_curve(y_test, clf_logistic_preds, n_bins = 20)[0]\n",
    "frac_of_pos_lr\n"
   ]
  },
  {
   "cell_type": "code",
   "execution_count": 67,
   "metadata": {},
   "outputs": [
    {
     "data": {
      "text/plain": [
       "array([0.02111464, 0.07548788, 0.12582662, 0.17502903, 0.22449499,\n",
       "       0.27491676, 0.32488847, 0.37486698, 0.42302912, 0.47397249,\n",
       "       0.52304288, 0.57259508, 0.62200793, 0.67156702, 0.71909209,\n",
       "       0.77024859])"
      ]
     },
     "execution_count": 67,
     "metadata": {},
     "output_type": "execute_result"
    }
   ],
   "source": [
    "# Probabilidad media\n",
    "mean_pred_val_lr = calibration_curve(y_test, clf_logistic_preds, n_bins = 20)[1]\n",
    "mean_pred_val_lr"
   ]
  },
  {
   "cell_type": "code",
   "execution_count": 68,
   "metadata": {},
   "outputs": [
    {
     "data": {
      "text/plain": [
       "array([0.01916168, 0.06385752, 0.12795793, 0.17460317, 0.21806854,\n",
       "       0.32620321, 0.32653061, 0.33333333, 0.40677966, 0.43181818,\n",
       "       0.6       , 0.42105263, 0.31578947, 0.6875    , 0.78571429,\n",
       "       0.83333333, 0.90697674, 0.95238095, 0.98850575, 1.        ])"
      ]
     },
     "execution_count": 68,
     "metadata": {},
     "output_type": "execute_result"
    }
   ],
   "source": [
    "# Fracción de positivos\n",
    "frac_of_pos_gbt = calibration_curve(y_test, clf_gbt_preds, n_bins = 20)[0]\n",
    "frac_of_pos_gbt"
   ]
  },
  {
   "cell_type": "code",
   "execution_count": 69,
   "metadata": {},
   "outputs": [
    {
     "data": {
      "text/plain": [
       "array([0.01937249, 0.07211534, 0.12178284, 0.17298487, 0.22318428,\n",
       "       0.2716055 , 0.32285183, 0.36934401, 0.42164062, 0.47158215,\n",
       "       0.52230486, 0.57041399, 0.62149715, 0.67234764, 0.72826275,\n",
       "       0.77567047, 0.82827961, 0.87636708, 0.92830987, 0.98579916])"
      ]
     },
     "execution_count": 69,
     "metadata": {},
     "output_type": "execute_result"
    }
   ],
   "source": [
    "# Probabilidad media\n",
    "mean_pred_val_gbt = calibration_curve(y_test, clf_gbt_preds, n_bins = 20)[1]\n",
    "mean_pred_val_gbt"
   ]
  },
  {
   "cell_type": "code",
   "execution_count": 70,
   "metadata": {},
   "outputs": [
    {
     "data": {
      "image/png": "[encoded data removed]",
      "text/plain": [
       "<Figure size 640x480 with 1 Axes>"
      ]
     },
     "metadata": {},
     "output_type": "display_data"
    }
   ],
   "source": [
    "# Curva de calibración\n",
    "plt.plot([0, 1], [0, 1], 'k:', label='Perfectly calibrated')    \n",
    "plt.plot(mean_pred_val_lr, frac_of_pos_lr, 's-', label='%s' % 'Logistic Regression')\n",
    "plt.plot(mean_pred_val_gbt, frac_of_pos_gbt, 's-', label='%s' % 'Gradient Boosted tree')\n",
    "plt.ylabel('Fraction of positives')\n",
    "plt.xlabel('Average Predicted Probability')\n",
    "plt.legend()\n",
    "plt.title('Calibration Curve')\n",
    "plt.show()"
   ]
  },
  {
   "cell_type": "code",
   "execution_count": 71,
   "metadata": {},
   "outputs": [
    {
     "name": "stdout",
     "output_type": "stream",
     "text": [
      "count    11784.000000\n",
      "mean         0.216866\n",
      "std          0.333038\n",
      "min          0.000354\n",
      "25%          0.022246\n",
      "50%          0.065633\n",
      "75%          0.177804\n",
      "max          0.999557\n",
      "Name: prob_default, dtype: float64\n"
     ]
    }
   ],
   "source": [
    "# Estadísticas de las probabilidades de incumplimiento\n",
    "true_list = pd.DataFrame(y_test, columns = ['loan_status']).rename(columns={'loan_status':'true_loan_status'}, inplace=False)\n",
    "test_pred_df = pd.concat([true_list.reset_index(drop = True), preds_df_gbt['prob_default']], axis = 1)\n",
    "print(test_pred_df['prob_default'].describe())"
   ]
  },
  {
   "cell_type": "code",
   "execution_count": 72,
   "metadata": {},
   "outputs": [
    {
     "name": "stdout",
     "output_type": "stream",
     "text": [
      "0    10016\n",
      "1     1768\n",
      "Name: pred_loan_status, dtype: int64\n"
     ]
    }
   ],
   "source": [
    "# Umbral para una tasa de aceptación del 85 %\n",
    "threshold_85 = np.quantile(test_pred_df['prob_default'], 0.85)\n",
    "\n",
    "# Umbral de tasa de aceptación\n",
    "test_pred_df['pred_loan_status'] = test_pred_df['prob_default'].apply(lambda x: 1 if x > threshold_85 else 0)\n",
    "\n",
    "# Recuentos del estado del préstamo después del umbral\n",
    "print(test_pred_df['pred_loan_status'].value_counts())"
   ]
  },
  {
   "cell_type": "code",
   "execution_count": 73,
   "metadata": {},
   "outputs": [
    {
     "data": {
      "image/png": "[encoded data removed]",
      "text/plain": [
       "<Figure size 640x480 with 1 Axes>"
      ]
     },
     "metadata": {},
     "output_type": "display_data"
    }
   ],
   "source": [
    "# Histograma de las probabilidades previstas de incumplimiento\n",
    "plt.hist(clf_gbt_preds, color = 'blue', bins = 40)\n",
    "\n",
    "# Línea de referencia al gráfico para el umbral\n",
    "plt.axvline(x = threshold_85, color = 'red')\n",
    "plt.show()"
   ]
  },
  {
   "cell_type": "code",
   "execution_count": 74,
   "metadata": {},
   "outputs": [
    {
     "data": {
      "text/html": [
       "<div>\n",
       "<style scoped>\n",
       "    .dataframe tbody tr th:only-of-type {\n",
       "        vertical-align: middle;\n",
       "    }\n",
       "\n",
       "    .dataframe tbody tr th {\n",
       "        vertical-align: top;\n",
       "    }\n",
       "\n",
       "    .dataframe thead th {\n",
       "        text-align: right;\n",
       "    }\n",
       "</style>\n",
       "<table border=\"1\" class=\"dataframe\">\n",
       "  <thead>\n",
       "    <tr style=\"text-align: right;\">\n",
       "      <th></th>\n",
       "      <th>true_loan_status</th>\n",
       "      <th>prob_default</th>\n",
       "      <th>pred_loan_status</th>\n",
       "    </tr>\n",
       "  </thead>\n",
       "  <tbody>\n",
       "    <tr>\n",
       "      <th>0</th>\n",
       "      <td>1</td>\n",
       "      <td>0.982387</td>\n",
       "      <td>1</td>\n",
       "    </tr>\n",
       "    <tr>\n",
       "      <th>1</th>\n",
       "      <td>1</td>\n",
       "      <td>0.975163</td>\n",
       "      <td>1</td>\n",
       "    </tr>\n",
       "    <tr>\n",
       "      <th>2</th>\n",
       "      <td>0</td>\n",
       "      <td>0.003474</td>\n",
       "      <td>0</td>\n",
       "    </tr>\n",
       "    <tr>\n",
       "      <th>3</th>\n",
       "      <td>0</td>\n",
       "      <td>0.005457</td>\n",
       "      <td>0</td>\n",
       "    </tr>\n",
       "    <tr>\n",
       "      <th>4</th>\n",
       "      <td>1</td>\n",
       "      <td>0.119876</td>\n",
       "      <td>0</td>\n",
       "    </tr>\n",
       "    <tr>\n",
       "      <th>...</th>\n",
       "      <td>...</td>\n",
       "      <td>...</td>\n",
       "      <td>...</td>\n",
       "    </tr>\n",
       "    <tr>\n",
       "      <th>11779</th>\n",
       "      <td>0</td>\n",
       "      <td>0.003521</td>\n",
       "      <td>0</td>\n",
       "    </tr>\n",
       "    <tr>\n",
       "      <th>11780</th>\n",
       "      <td>0</td>\n",
       "      <td>0.028647</td>\n",
       "      <td>0</td>\n",
       "    </tr>\n",
       "    <tr>\n",
       "      <th>11781</th>\n",
       "      <td>0</td>\n",
       "      <td>0.107442</td>\n",
       "      <td>0</td>\n",
       "    </tr>\n",
       "    <tr>\n",
       "      <th>11782</th>\n",
       "      <td>0</td>\n",
       "      <td>0.217885</td>\n",
       "      <td>0</td>\n",
       "    </tr>\n",
       "    <tr>\n",
       "      <th>11783</th>\n",
       "      <td>0</td>\n",
       "      <td>0.101885</td>\n",
       "      <td>0</td>\n",
       "    </tr>\n",
       "  </tbody>\n",
       "</table>\n",
       "<p>11784 rows × 3 columns</p>\n",
       "</div>"
      ],
      "text/plain": [
       "       true_loan_status  prob_default  pred_loan_status\n",
       "0                     1      0.982387                 1\n",
       "1                     1      0.975163                 1\n",
       "2                     0      0.003474                 0\n",
       "3                     0      0.005457                 0\n",
       "4                     1      0.119876                 0\n",
       "...                 ...           ...               ...\n",
       "11779                 0      0.003521                 0\n",
       "11780                 0      0.028647                 0\n",
       "11781                 0      0.107442                 0\n",
       "11782                 0      0.217885                 0\n",
       "11783                 0      0.101885                 0\n",
       "\n",
       "[11784 rows x 3 columns]"
      ]
     },
     "execution_count": 74,
     "metadata": {},
     "output_type": "execute_result"
    }
   ],
   "source": [
    "test_pred_df"
   ]
  },
  {
   "cell_type": "code",
   "execution_count": 75,
   "metadata": {},
   "outputs": [
    {
     "name": "stdout",
     "output_type": "stream",
     "text": [
      "0.08256789137380191\n"
     ]
    }
   ],
   "source": [
    "# Subconjunto de solo préstamos aceptados\n",
    "accepted_loans = test_pred_df[test_pred_df['pred_loan_status'] == 0]\n",
    "\n",
    "# Cálculo de la baja tasa\n",
    "print(np.sum(accepted_loans['true_loan_status']) / accepted_loans['true_loan_status'].count())"
   ]
  },
  {
   "cell_type": "code",
   "execution_count": 76,
   "metadata": {},
   "outputs": [
    {
     "data": {
      "text/html": [
       "<div>\n",
       "<style scoped>\n",
       "    .dataframe tbody tr th:only-of-type {\n",
       "        vertical-align: middle;\n",
       "    }\n",
       "\n",
       "    .dataframe tbody tr th {\n",
       "        vertical-align: top;\n",
       "    }\n",
       "\n",
       "    .dataframe thead th {\n",
       "        text-align: right;\n",
       "    }\n",
       "</style>\n",
       "<table border=\"1\" class=\"dataframe\">\n",
       "  <thead>\n",
       "    <tr style=\"text-align: right;\">\n",
       "      <th></th>\n",
       "      <th>true_loan_status</th>\n",
       "      <th>prob_default</th>\n",
       "      <th>pred_loan_status_15</th>\n",
       "      <th>loan_amnt</th>\n",
       "    </tr>\n",
       "  </thead>\n",
       "  <tbody>\n",
       "    <tr>\n",
       "      <th>0</th>\n",
       "      <td>1</td>\n",
       "      <td>0.982387</td>\n",
       "      <td>1</td>\n",
       "      <td>15000</td>\n",
       "    </tr>\n",
       "    <tr>\n",
       "      <th>1</th>\n",
       "      <td>1</td>\n",
       "      <td>0.975163</td>\n",
       "      <td>1</td>\n",
       "      <td>11200</td>\n",
       "    </tr>\n",
       "    <tr>\n",
       "      <th>2</th>\n",
       "      <td>0</td>\n",
       "      <td>0.003474</td>\n",
       "      <td>0</td>\n",
       "      <td>15000</td>\n",
       "    </tr>\n",
       "    <tr>\n",
       "      <th>3</th>\n",
       "      <td>0</td>\n",
       "      <td>0.005457</td>\n",
       "      <td>0</td>\n",
       "      <td>10800</td>\n",
       "    </tr>\n",
       "    <tr>\n",
       "      <th>4</th>\n",
       "      <td>1</td>\n",
       "      <td>0.119876</td>\n",
       "      <td>0</td>\n",
       "      <td>3000</td>\n",
       "    </tr>\n",
       "    <tr>\n",
       "      <th>...</th>\n",
       "      <td>...</td>\n",
       "      <td>...</td>\n",
       "      <td>...</td>\n",
       "      <td>...</td>\n",
       "    </tr>\n",
       "    <tr>\n",
       "      <th>11779</th>\n",
       "      <td>0</td>\n",
       "      <td>0.003521</td>\n",
       "      <td>0</td>\n",
       "      <td>8000</td>\n",
       "    </tr>\n",
       "    <tr>\n",
       "      <th>11780</th>\n",
       "      <td>0</td>\n",
       "      <td>0.028647</td>\n",
       "      <td>0</td>\n",
       "      <td>6600</td>\n",
       "    </tr>\n",
       "    <tr>\n",
       "      <th>11781</th>\n",
       "      <td>0</td>\n",
       "      <td>0.107442</td>\n",
       "      <td>0</td>\n",
       "      <td>16000</td>\n",
       "    </tr>\n",
       "    <tr>\n",
       "      <th>11782</th>\n",
       "      <td>0</td>\n",
       "      <td>0.217885</td>\n",
       "      <td>0</td>\n",
       "      <td>6000</td>\n",
       "    </tr>\n",
       "    <tr>\n",
       "      <th>11783</th>\n",
       "      <td>0</td>\n",
       "      <td>0.101885</td>\n",
       "      <td>0</td>\n",
       "      <td>10000</td>\n",
       "    </tr>\n",
       "  </tbody>\n",
       "</table>\n",
       "<p>11784 rows × 4 columns</p>\n",
       "</div>"
      ],
      "text/plain": [
       "       true_loan_status  prob_default  pred_loan_status_15  loan_amnt\n",
       "0                     1      0.982387                    1      15000\n",
       "1                     1      0.975163                    1      11200\n",
       "2                     0      0.003474                    0      15000\n",
       "3                     0      0.005457                    0      10800\n",
       "4                     1      0.119876                    0       3000\n",
       "...                 ...           ...                  ...        ...\n",
       "11779                 0      0.003521                    0       8000\n",
       "11780                 0      0.028647                    0       6600\n",
       "11781                 0      0.107442                    0      16000\n",
       "11782                 0      0.217885                    0       6000\n",
       "11783                 0      0.101885                    0      10000\n",
       "\n",
       "[11784 rows x 4 columns]"
      ]
     },
     "execution_count": 76,
     "metadata": {},
     "output_type": "execute_result"
    }
   ],
   "source": [
    "test_pred_df = test_pred_df.rename(columns={'pred_loan_status':'pred_loan_status_15'}, inplace=False)\n",
    "test_pred_df['loan_amnt'] = X_test['loan_amnt'].reset_index(drop = True)\n",
    "test_pred_df"
   ]
  },
  {
   "cell_type": "code",
   "execution_count": 77,
   "metadata": {},
   "outputs": [
    {
     "name": "stdout",
     "output_type": "stream",
     "text": [
      "count    11784.000000\n",
      "mean      9556.283944\n",
      "std       6238.005674\n",
      "min        500.000000\n",
      "25%       5000.000000\n",
      "50%       8000.000000\n",
      "75%      12000.000000\n",
      "max      35000.000000\n",
      "Name: loan_amnt, dtype: float64\n"
     ]
    }
   ],
   "source": [
    "# Estadísticas de la variable monto del préstamo\n",
    "print(test_pred_df['loan_amnt'].describe())"
   ]
  },
  {
   "cell_type": "code",
   "execution_count": 78,
   "metadata": {},
   "outputs": [
    {
     "name": "stdout",
     "output_type": "stream",
     "text": [
      "pred_loan_status_15              0              1\n",
      "true_loan_status                                 \n",
      "0                   $87,812,693.16     $86,006.56\n",
      "1                    $7,903,046.82 $16,809,503.46\n"
     ]
    }
   ],
   "source": [
    "# Almacenar el monto promedio del préstamo\n",
    "avg_loan = np.mean(test_pred_df['loan_amnt'])\n",
    "\n",
    "# Formato de moneda y tabulación cruzada\n",
    "pd.options.display.float_format = '${:,.2f}'.format\n",
    "print(pd.crosstab(test_pred_df['true_loan_status'], test_pred_df['pred_loan_status_15']).apply(lambda x: x * avg_loan, axis = 0))"
   ]
  },
  {
   "cell_type": "code",
   "execution_count": 79,
   "metadata": {},
   "outputs": [],
   "source": [
    "# Matriz de tazas de aceptación\n",
    "accept_rates = [1.0,\n",
    " 0.95,\n",
    " 0.9,\n",
    " 0.85,\n",
    " 0.8,\n",
    " 0.75,\n",
    " 0.7,\n",
    " 0.65,\n",
    " 0.6,\n",
    " 0.55,\n",
    " 0.5,\n",
    " 0.45,\n",
    " 0.4,\n",
    " 0.35,\n",
    " 0.3,\n",
    " 0.25,\n",
    " 0.2,\n",
    " 0.15,\n",
    " 0.1,\n",
    " 0.05]"
   ]
  },
  {
   "cell_type": "code",
   "execution_count": 80,
   "metadata": {},
   "outputs": [],
   "source": [
    "# Matriz de umbrales\n",
    "thresholds = []"
   ]
  },
  {
   "cell_type": "code",
   "execution_count": 81,
   "metadata": {},
   "outputs": [],
   "source": [
    "# Matriz de bajas tazas de aceptación\n",
    "bad_rates = []"
   ]
  },
  {
   "cell_type": "code",
   "execution_count": 82,
   "metadata": {},
   "outputs": [
    {
     "data": {
      "text/html": [
       "<div>\n",
       "<style scoped>\n",
       "    .dataframe tbody tr th:only-of-type {\n",
       "        vertical-align: middle;\n",
       "    }\n",
       "\n",
       "    .dataframe tbody tr th {\n",
       "        vertical-align: top;\n",
       "    }\n",
       "\n",
       "    .dataframe thead th {\n",
       "        text-align: right;\n",
       "    }\n",
       "</style>\n",
       "<table border=\"1\" class=\"dataframe\">\n",
       "  <thead>\n",
       "    <tr style=\"text-align: right;\">\n",
       "      <th></th>\n",
       "      <th>true_loan_status</th>\n",
       "      <th>prob_default</th>\n",
       "      <th>pred_loan_status</th>\n",
       "      <th>loan_amnt</th>\n",
       "    </tr>\n",
       "  </thead>\n",
       "  <tbody>\n",
       "    <tr>\n",
       "      <th>0</th>\n",
       "      <td>1</td>\n",
       "      <td>$0.98</td>\n",
       "      <td>1</td>\n",
       "      <td>15000</td>\n",
       "    </tr>\n",
       "    <tr>\n",
       "      <th>1</th>\n",
       "      <td>1</td>\n",
       "      <td>$0.98</td>\n",
       "      <td>1</td>\n",
       "      <td>11200</td>\n",
       "    </tr>\n",
       "    <tr>\n",
       "      <th>2</th>\n",
       "      <td>0</td>\n",
       "      <td>$0.00</td>\n",
       "      <td>0</td>\n",
       "      <td>15000</td>\n",
       "    </tr>\n",
       "    <tr>\n",
       "      <th>3</th>\n",
       "      <td>0</td>\n",
       "      <td>$0.01</td>\n",
       "      <td>0</td>\n",
       "      <td>10800</td>\n",
       "    </tr>\n",
       "    <tr>\n",
       "      <th>4</th>\n",
       "      <td>1</td>\n",
       "      <td>$0.12</td>\n",
       "      <td>0</td>\n",
       "      <td>3000</td>\n",
       "    </tr>\n",
       "    <tr>\n",
       "      <th>...</th>\n",
       "      <td>...</td>\n",
       "      <td>...</td>\n",
       "      <td>...</td>\n",
       "      <td>...</td>\n",
       "    </tr>\n",
       "    <tr>\n",
       "      <th>11779</th>\n",
       "      <td>0</td>\n",
       "      <td>$0.00</td>\n",
       "      <td>0</td>\n",
       "      <td>8000</td>\n",
       "    </tr>\n",
       "    <tr>\n",
       "      <th>11780</th>\n",
       "      <td>0</td>\n",
       "      <td>$0.03</td>\n",
       "      <td>0</td>\n",
       "      <td>6600</td>\n",
       "    </tr>\n",
       "    <tr>\n",
       "      <th>11781</th>\n",
       "      <td>0</td>\n",
       "      <td>$0.11</td>\n",
       "      <td>0</td>\n",
       "      <td>16000</td>\n",
       "    </tr>\n",
       "    <tr>\n",
       "      <th>11782</th>\n",
       "      <td>0</td>\n",
       "      <td>$0.22</td>\n",
       "      <td>0</td>\n",
       "      <td>6000</td>\n",
       "    </tr>\n",
       "    <tr>\n",
       "      <th>11783</th>\n",
       "      <td>0</td>\n",
       "      <td>$0.10</td>\n",
       "      <td>0</td>\n",
       "      <td>10000</td>\n",
       "    </tr>\n",
       "  </tbody>\n",
       "</table>\n",
       "<p>11784 rows × 4 columns</p>\n",
       "</div>"
      ],
      "text/plain": [
       "       true_loan_status  prob_default  pred_loan_status  loan_amnt\n",
       "0                     1         $0.98                 1      15000\n",
       "1                     1         $0.98                 1      11200\n",
       "2                     0         $0.00                 0      15000\n",
       "3                     0         $0.01                 0      10800\n",
       "4                     1         $0.12                 0       3000\n",
       "...                 ...           ...               ...        ...\n",
       "11779                 0         $0.00                 0       8000\n",
       "11780                 0         $0.03                 0       6600\n",
       "11781                 0         $0.11                 0      16000\n",
       "11782                 0         $0.22                 0       6000\n",
       "11783                 0         $0.10                 0      10000\n",
       "\n",
       "[11784 rows x 4 columns]"
      ]
     },
     "execution_count": 82,
     "metadata": {},
     "output_type": "execute_result"
    }
   ],
   "source": [
    "test_pred_df = test_pred_df.rename(columns={'pred_loan_status_15':'pred_loan_status'}, inplace=False)\n",
    "test_pred_df"
   ]
  },
  {
   "cell_type": "code",
   "execution_count": 83,
   "metadata": {},
   "outputs": [],
   "source": [
    "# Prestamos aceptados\n",
    "accepted_loans = accepted_loans[0:0]"
   ]
  },
  {
   "cell_type": "code",
   "execution_count": 84,
   "metadata": {},
   "outputs": [],
   "source": [
    "# Número de prestamos aceptados\n",
    "num_accepted_loans = []"
   ]
  },
  {
   "cell_type": "code",
   "execution_count": 85,
   "metadata": {},
   "outputs": [],
   "source": [
    "# Matrices de la tabla de estrategia con un bucle for\n",
    "for rate in accept_rates:\n",
    "    # Umbral para la tasa de aceptación\n",
    "    thresh = np.quantile(preds_df_gbt['prob_default'], rate).round(3)\n",
    "    # Agregación del valor del umbral a la lista de umbrales\n",
    "    thresholds.append(np.quantile(preds_df_gbt['prob_default'], rate).round(3))\n",
    "    # Reasignación del valor del estado del préstamo usando el umbral\n",
    "    test_pred_df['pred_loan_status'] = \\\n",
    "        test_pred_df['prob_default'].apply(lambda x: 1 if x > thresh else 0)\n",
    "    # Conjunto de préstamos aceptados usando esta tasa de aceptación\n",
    "    accepted_loans = test_pred_df[test_pred_df['pred_loan_status'] == 0]\n",
    "    # Calculo y asignación de la tasa baja usando la tasa de aceptación\n",
    "    bad_rates.append(np.sum((accepted_loans['true_loan_status'])\n",
    "             / accepted_loans['true_loan_status'].count()).round(3))\n",
    "    # Numero de prestamos aceptados\n",
    "    num_accepted_loans.append(len(test_pred_df[test_pred_df['prob_default']<np.quantile(test_pred_df['prob_default'], rate).round(3)]))\n"
   ]
  },
  {
   "cell_type": "code",
   "execution_count": 86,
   "metadata": {},
   "outputs": [
    {
     "data": {
      "text/html": [
       "<div>\n",
       "<style scoped>\n",
       "    .dataframe tbody tr th:only-of-type {\n",
       "        vertical-align: middle;\n",
       "    }\n",
       "\n",
       "    .dataframe tbody tr th {\n",
       "        vertical-align: top;\n",
       "    }\n",
       "\n",
       "    .dataframe thead th {\n",
       "        text-align: right;\n",
       "    }\n",
       "</style>\n",
       "<table border=\"1\" class=\"dataframe\">\n",
       "  <thead>\n",
       "    <tr style=\"text-align: right;\">\n",
       "      <th></th>\n",
       "      <th>Acceptance Rate</th>\n",
       "      <th>Threshold</th>\n",
       "      <th>Bad Rate</th>\n",
       "    </tr>\n",
       "  </thead>\n",
       "  <tbody>\n",
       "    <tr>\n",
       "      <th>0</th>\n",
       "      <td>$1.00</td>\n",
       "      <td>$1.00</td>\n",
       "      <td>$0.22</td>\n",
       "    </tr>\n",
       "    <tr>\n",
       "      <th>1</th>\n",
       "      <td>$0.95</td>\n",
       "      <td>$0.99</td>\n",
       "      <td>$0.18</td>\n",
       "    </tr>\n",
       "    <tr>\n",
       "      <th>2</th>\n",
       "      <td>$0.90</td>\n",
       "      <td>$0.98</td>\n",
       "      <td>$0.13</td>\n",
       "    </tr>\n",
       "    <tr>\n",
       "      <th>3</th>\n",
       "      <td>$0.85</td>\n",
       "      <td>$0.80</td>\n",
       "      <td>$0.08</td>\n",
       "    </tr>\n",
       "    <tr>\n",
       "      <th>4</th>\n",
       "      <td>$0.80</td>\n",
       "      <td>$0.25</td>\n",
       "      <td>$0.06</td>\n",
       "    </tr>\n",
       "    <tr>\n",
       "      <th>5</th>\n",
       "      <td>$0.75</td>\n",
       "      <td>$0.18</td>\n",
       "      <td>$0.05</td>\n",
       "    </tr>\n",
       "    <tr>\n",
       "      <th>6</th>\n",
       "      <td>$0.70</td>\n",
       "      <td>$0.14</td>\n",
       "      <td>$0.04</td>\n",
       "    </tr>\n",
       "    <tr>\n",
       "      <th>7</th>\n",
       "      <td>$0.65</td>\n",
       "      <td>$0.11</td>\n",
       "      <td>$0.04</td>\n",
       "    </tr>\n",
       "    <tr>\n",
       "      <th>8</th>\n",
       "      <td>$0.60</td>\n",
       "      <td>$0.09</td>\n",
       "      <td>$0.03</td>\n",
       "    </tr>\n",
       "    <tr>\n",
       "      <th>9</th>\n",
       "      <td>$0.55</td>\n",
       "      <td>$0.08</td>\n",
       "      <td>$0.03</td>\n",
       "    </tr>\n",
       "    <tr>\n",
       "      <th>10</th>\n",
       "      <td>$0.50</td>\n",
       "      <td>$0.07</td>\n",
       "      <td>$0.02</td>\n",
       "    </tr>\n",
       "    <tr>\n",
       "      <th>11</th>\n",
       "      <td>$0.45</td>\n",
       "      <td>$0.06</td>\n",
       "      <td>$0.02</td>\n",
       "    </tr>\n",
       "    <tr>\n",
       "      <th>12</th>\n",
       "      <td>$0.40</td>\n",
       "      <td>$0.04</td>\n",
       "      <td>$0.02</td>\n",
       "    </tr>\n",
       "    <tr>\n",
       "      <th>13</th>\n",
       "      <td>$0.35</td>\n",
       "      <td>$0.04</td>\n",
       "      <td>$0.01</td>\n",
       "    </tr>\n",
       "    <tr>\n",
       "      <th>14</th>\n",
       "      <td>$0.30</td>\n",
       "      <td>$0.03</td>\n",
       "      <td>$0.01</td>\n",
       "    </tr>\n",
       "    <tr>\n",
       "      <th>15</th>\n",
       "      <td>$0.25</td>\n",
       "      <td>$0.02</td>\n",
       "      <td>$0.01</td>\n",
       "    </tr>\n",
       "    <tr>\n",
       "      <th>16</th>\n",
       "      <td>$0.20</td>\n",
       "      <td>$0.01</td>\n",
       "      <td>$0.01</td>\n",
       "    </tr>\n",
       "    <tr>\n",
       "      <th>17</th>\n",
       "      <td>$0.15</td>\n",
       "      <td>$0.01</td>\n",
       "      <td>$0.00</td>\n",
       "    </tr>\n",
       "    <tr>\n",
       "      <th>18</th>\n",
       "      <td>$0.10</td>\n",
       "      <td>$0.00</td>\n",
       "      <td>$0.00</td>\n",
       "    </tr>\n",
       "    <tr>\n",
       "      <th>19</th>\n",
       "      <td>$0.05</td>\n",
       "      <td>$0.00</td>\n",
       "      <td>$0.00</td>\n",
       "    </tr>\n",
       "  </tbody>\n",
       "</table>\n",
       "</div>"
      ],
      "text/plain": [
       "    Acceptance Rate  Threshold  Bad Rate\n",
       "0             $1.00      $1.00     $0.22\n",
       "1             $0.95      $0.99     $0.18\n",
       "2             $0.90      $0.98     $0.13\n",
       "3             $0.85      $0.80     $0.08\n",
       "4             $0.80      $0.25     $0.06\n",
       "5             $0.75      $0.18     $0.05\n",
       "6             $0.70      $0.14     $0.04\n",
       "7             $0.65      $0.11     $0.04\n",
       "8             $0.60      $0.09     $0.03\n",
       "9             $0.55      $0.08     $0.03\n",
       "10            $0.50      $0.07     $0.02\n",
       "11            $0.45      $0.06     $0.02\n",
       "12            $0.40      $0.04     $0.02\n",
       "13            $0.35      $0.04     $0.01\n",
       "14            $0.30      $0.03     $0.01\n",
       "15            $0.25      $0.02     $0.01\n",
       "16            $0.20      $0.01     $0.01\n",
       "17            $0.15      $0.01     $0.00\n",
       "18            $0.10      $0.00     $0.00\n",
       "19            $0.05      $0.00     $0.00"
      ]
     },
     "execution_count": 86,
     "metadata": {},
     "output_type": "execute_result"
    }
   ],
   "source": [
    "# Marco de datos de la tabla de estrategia comercial\n",
    "strat_df = pd.DataFrame(zip(accept_rates, thresholds, bad_rates), columns = ['Acceptance Rate','Threshold','Bad Rate'])\n",
    "strat_df"
   ]
  },
  {
   "cell_type": "code",
   "execution_count": 87,
   "metadata": {},
   "outputs": [],
   "source": [
    "# Monto promedio del prestamo\n",
    "mean_loan_amnt = np.mean(test_pred_df['loan_amnt']).repeat(20)"
   ]
  },
  {
   "cell_type": "code",
   "execution_count": 88,
   "metadata": {},
   "outputs": [
    {
     "data": {
      "text/html": [
       "<div>\n",
       "<style scoped>\n",
       "    .dataframe tbody tr th:only-of-type {\n",
       "        vertical-align: middle;\n",
       "    }\n",
       "\n",
       "    .dataframe tbody tr th {\n",
       "        vertical-align: top;\n",
       "    }\n",
       "\n",
       "    .dataframe thead th {\n",
       "        text-align: right;\n",
       "    }\n",
       "</style>\n",
       "<table border=\"1\" class=\"dataframe\">\n",
       "  <thead>\n",
       "    <tr style=\"text-align: right;\">\n",
       "      <th></th>\n",
       "      <th>Acceptance Rate</th>\n",
       "      <th>Threshold</th>\n",
       "      <th>Bad Rate</th>\n",
       "      <th>Num Accepted Loans</th>\n",
       "      <th>Avg Loan Amnt</th>\n",
       "    </tr>\n",
       "  </thead>\n",
       "  <tbody>\n",
       "    <tr>\n",
       "      <th>0</th>\n",
       "      <td>$1.00</td>\n",
       "      <td>$1.00</td>\n",
       "      <td>$0.22</td>\n",
       "      <td>11784</td>\n",
       "      <td>$9,556.28</td>\n",
       "    </tr>\n",
       "    <tr>\n",
       "      <th>1</th>\n",
       "      <td>$0.95</td>\n",
       "      <td>$0.99</td>\n",
       "      <td>$0.18</td>\n",
       "      <td>11208</td>\n",
       "      <td>$9,556.28</td>\n",
       "    </tr>\n",
       "    <tr>\n",
       "      <th>2</th>\n",
       "      <td>$0.90</td>\n",
       "      <td>$0.98</td>\n",
       "      <td>$0.13</td>\n",
       "      <td>10597</td>\n",
       "      <td>$9,556.28</td>\n",
       "    </tr>\n",
       "    <tr>\n",
       "      <th>3</th>\n",
       "      <td>$0.85</td>\n",
       "      <td>$0.80</td>\n",
       "      <td>$0.08</td>\n",
       "      <td>10016</td>\n",
       "      <td>$9,556.28</td>\n",
       "    </tr>\n",
       "    <tr>\n",
       "      <th>4</th>\n",
       "      <td>$0.80</td>\n",
       "      <td>$0.25</td>\n",
       "      <td>$0.06</td>\n",
       "      <td>9425</td>\n",
       "      <td>$9,556.28</td>\n",
       "    </tr>\n",
       "    <tr>\n",
       "      <th>5</th>\n",
       "      <td>$0.75</td>\n",
       "      <td>$0.18</td>\n",
       "      <td>$0.05</td>\n",
       "      <td>8843</td>\n",
       "      <td>$9,556.28</td>\n",
       "    </tr>\n",
       "    <tr>\n",
       "      <th>6</th>\n",
       "      <td>$0.70</td>\n",
       "      <td>$0.14</td>\n",
       "      <td>$0.04</td>\n",
       "      <td>8248</td>\n",
       "      <td>$9,556.28</td>\n",
       "    </tr>\n",
       "    <tr>\n",
       "      <th>7</th>\n",
       "      <td>$0.65</td>\n",
       "      <td>$0.11</td>\n",
       "      <td>$0.04</td>\n",
       "      <td>7653</td>\n",
       "      <td>$9,556.28</td>\n",
       "    </tr>\n",
       "    <tr>\n",
       "      <th>8</th>\n",
       "      <td>$0.60</td>\n",
       "      <td>$0.09</td>\n",
       "      <td>$0.03</td>\n",
       "      <td>7058</td>\n",
       "      <td>$9,556.28</td>\n",
       "    </tr>\n",
       "    <tr>\n",
       "      <th>9</th>\n",
       "      <td>$0.55</td>\n",
       "      <td>$0.08</td>\n",
       "      <td>$0.03</td>\n",
       "      <td>6496</td>\n",
       "      <td>$9,556.28</td>\n",
       "    </tr>\n",
       "    <tr>\n",
       "      <th>10</th>\n",
       "      <td>$0.50</td>\n",
       "      <td>$0.07</td>\n",
       "      <td>$0.02</td>\n",
       "      <td>5914</td>\n",
       "      <td>$9,556.28</td>\n",
       "    </tr>\n",
       "    <tr>\n",
       "      <th>11</th>\n",
       "      <td>$0.45</td>\n",
       "      <td>$0.06</td>\n",
       "      <td>$0.02</td>\n",
       "      <td>5328</td>\n",
       "      <td>$9,556.28</td>\n",
       "    </tr>\n",
       "    <tr>\n",
       "      <th>12</th>\n",
       "      <td>$0.40</td>\n",
       "      <td>$0.04</td>\n",
       "      <td>$0.02</td>\n",
       "      <td>4680</td>\n",
       "      <td>$9,556.28</td>\n",
       "    </tr>\n",
       "    <tr>\n",
       "      <th>13</th>\n",
       "      <td>$0.35</td>\n",
       "      <td>$0.04</td>\n",
       "      <td>$0.01</td>\n",
       "      <td>4099</td>\n",
       "      <td>$9,556.28</td>\n",
       "    </tr>\n",
       "    <tr>\n",
       "      <th>14</th>\n",
       "      <td>$0.30</td>\n",
       "      <td>$0.03</td>\n",
       "      <td>$0.01</td>\n",
       "      <td>3555</td>\n",
       "      <td>$9,556.28</td>\n",
       "    </tr>\n",
       "    <tr>\n",
       "      <th>15</th>\n",
       "      <td>$0.25</td>\n",
       "      <td>$0.02</td>\n",
       "      <td>$0.01</td>\n",
       "      <td>2927</td>\n",
       "      <td>$9,556.28</td>\n",
       "    </tr>\n",
       "    <tr>\n",
       "      <th>16</th>\n",
       "      <td>$0.20</td>\n",
       "      <td>$0.01</td>\n",
       "      <td>$0.01</td>\n",
       "      <td>2394</td>\n",
       "      <td>$9,556.28</td>\n",
       "    </tr>\n",
       "    <tr>\n",
       "      <th>17</th>\n",
       "      <td>$0.15</td>\n",
       "      <td>$0.01</td>\n",
       "      <td>$0.00</td>\n",
       "      <td>1759</td>\n",
       "      <td>$9,556.28</td>\n",
       "    </tr>\n",
       "    <tr>\n",
       "      <th>18</th>\n",
       "      <td>$0.10</td>\n",
       "      <td>$0.00</td>\n",
       "      <td>$0.00</td>\n",
       "      <td>1193</td>\n",
       "      <td>$9,556.28</td>\n",
       "    </tr>\n",
       "    <tr>\n",
       "      <th>19</th>\n",
       "      <td>$0.05</td>\n",
       "      <td>$0.00</td>\n",
       "      <td>$0.00</td>\n",
       "      <td>405</td>\n",
       "      <td>$9,556.28</td>\n",
       "    </tr>\n",
       "  </tbody>\n",
       "</table>\n",
       "</div>"
      ],
      "text/plain": [
       "    Acceptance Rate  Threshold  Bad Rate  Num Accepted Loans  Avg Loan Amnt\n",
       "0             $1.00      $1.00     $0.22               11784      $9,556.28\n",
       "1             $0.95      $0.99     $0.18               11208      $9,556.28\n",
       "2             $0.90      $0.98     $0.13               10597      $9,556.28\n",
       "3             $0.85      $0.80     $0.08               10016      $9,556.28\n",
       "4             $0.80      $0.25     $0.06                9425      $9,556.28\n",
       "5             $0.75      $0.18     $0.05                8843      $9,556.28\n",
       "6             $0.70      $0.14     $0.04                8248      $9,556.28\n",
       "7             $0.65      $0.11     $0.04                7653      $9,556.28\n",
       "8             $0.60      $0.09     $0.03                7058      $9,556.28\n",
       "9             $0.55      $0.08     $0.03                6496      $9,556.28\n",
       "10            $0.50      $0.07     $0.02                5914      $9,556.28\n",
       "11            $0.45      $0.06     $0.02                5328      $9,556.28\n",
       "12            $0.40      $0.04     $0.02                4680      $9,556.28\n",
       "13            $0.35      $0.04     $0.01                4099      $9,556.28\n",
       "14            $0.30      $0.03     $0.01                3555      $9,556.28\n",
       "15            $0.25      $0.02     $0.01                2927      $9,556.28\n",
       "16            $0.20      $0.01     $0.01                2394      $9,556.28\n",
       "17            $0.15      $0.01     $0.00                1759      $9,556.28\n",
       "18            $0.10      $0.00     $0.00                1193      $9,556.28\n",
       "19            $0.05      $0.00     $0.00                 405      $9,556.28"
      ]
     },
     "execution_count": 88,
     "metadata": {},
     "output_type": "execute_result"
    }
   ],
   "source": [
    "# Marco de datos de la tabla de estrategia comercial con el monto promedio del prestamo\n",
    "strat_df = pd.DataFrame(zip(accept_rates, thresholds, bad_rates, num_accepted_loans, mean_loan_amnt), columns = ['Acceptance Rate','Threshold','Bad Rate', 'Num Accepted Loans', 'Avg Loan Amnt'])\n",
    "strat_df"
   ]
  },
  {
   "cell_type": "code",
   "execution_count": 89,
   "metadata": {},
   "outputs": [],
   "source": [
    "# El valor neto estimado de los no impagos menos los impagos\n",
    "estimated_value = ((strat_df['Num Accepted Loans'] * (1 - strat_df['Bad Rate'])) * strat_df['Avg Loan Amnt']) - (strat_df['Num Accepted Loans'] * strat_df['Bad Rate'] * strat_df['Avg Loan Amnt'])\n"
   ]
  },
  {
   "cell_type": "code",
   "execution_count": 90,
   "metadata": {},
   "outputs": [
    {
     "data": {
      "text/html": [
       "<div>\n",
       "<style scoped>\n",
       "    .dataframe tbody tr th:only-of-type {\n",
       "        vertical-align: middle;\n",
       "    }\n",
       "\n",
       "    .dataframe tbody tr th {\n",
       "        vertical-align: top;\n",
       "    }\n",
       "\n",
       "    .dataframe thead th {\n",
       "        text-align: right;\n",
       "    }\n",
       "</style>\n",
       "<table border=\"1\" class=\"dataframe\">\n",
       "  <thead>\n",
       "    <tr style=\"text-align: right;\">\n",
       "      <th></th>\n",
       "      <th>Acceptance Rate</th>\n",
       "      <th>Threshold</th>\n",
       "      <th>Bad Rate</th>\n",
       "      <th>Num Accepted Loans</th>\n",
       "      <th>Avg Loan Amnt</th>\n",
       "      <th>Estimated Value</th>\n",
       "    </tr>\n",
       "  </thead>\n",
       "  <tbody>\n",
       "    <tr>\n",
       "      <th>0</th>\n",
       "      <td>$1.00</td>\n",
       "      <td>$1.00</td>\n",
       "      <td>$0.22</td>\n",
       "      <td>11784</td>\n",
       "      <td>$9,556.28</td>\n",
       "      <td>$63,287,522.50</td>\n",
       "    </tr>\n",
       "    <tr>\n",
       "      <th>1</th>\n",
       "      <td>$0.95</td>\n",
       "      <td>$0.99</td>\n",
       "      <td>$0.18</td>\n",
       "      <td>11208</td>\n",
       "      <td>$9,556.28</td>\n",
       "      <td>$68,762,585.15</td>\n",
       "    </tr>\n",
       "    <tr>\n",
       "      <th>2</th>\n",
       "      <td>$0.90</td>\n",
       "      <td>$0.98</td>\n",
       "      <td>$0.13</td>\n",
       "      <td>10597</td>\n",
       "      <td>$9,556.28</td>\n",
       "      <td>$74,533,204.55</td>\n",
       "    </tr>\n",
       "    <tr>\n",
       "      <th>3</th>\n",
       "      <td>$0.85</td>\n",
       "      <td>$0.80</td>\n",
       "      <td>$0.08</td>\n",
       "      <td>10016</td>\n",
       "      <td>$9,556.28</td>\n",
       "      <td>$79,826,927.15</td>\n",
       "    </tr>\n",
       "    <tr>\n",
       "      <th>4</th>\n",
       "      <td>$0.80</td>\n",
       "      <td>$0.25</td>\n",
       "      <td>$0.06</td>\n",
       "      <td>9425</td>\n",
       "      <td>$9,556.28</td>\n",
       "      <td>$79,079,683.08</td>\n",
       "    </tr>\n",
       "    <tr>\n",
       "      <th>5</th>\n",
       "      <td>$0.75</td>\n",
       "      <td>$0.18</td>\n",
       "      <td>$0.05</td>\n",
       "      <td>8843</td>\n",
       "      <td>$9,556.28</td>\n",
       "      <td>$75,717,572.15</td>\n",
       "    </tr>\n",
       "    <tr>\n",
       "      <th>6</th>\n",
       "      <td>$0.70</td>\n",
       "      <td>$0.14</td>\n",
       "      <td>$0.04</td>\n",
       "      <td>8248</td>\n",
       "      <td>$9,556.28</td>\n",
       "      <td>$72,041,690.20</td>\n",
       "    </tr>\n",
       "    <tr>\n",
       "      <th>7</th>\n",
       "      <td>$0.65</td>\n",
       "      <td>$0.11</td>\n",
       "      <td>$0.04</td>\n",
       "      <td>7653</td>\n",
       "      <td>$9,556.28</td>\n",
       "      <td>$67,868,575.67</td>\n",
       "    </tr>\n",
       "    <tr>\n",
       "      <th>8</th>\n",
       "      <td>$0.60</td>\n",
       "      <td>$0.09</td>\n",
       "      <td>$0.03</td>\n",
       "      <td>7058</td>\n",
       "      <td>$9,556.28</td>\n",
       "      <td>$63,401,356.95</td>\n",
       "    </tr>\n",
       "    <tr>\n",
       "      <th>9</th>\n",
       "      <td>$0.55</td>\n",
       "      <td>$0.08</td>\n",
       "      <td>$0.03</td>\n",
       "      <td>6496</td>\n",
       "      <td>$9,556.28</td>\n",
       "      <td>$58,725,429.00</td>\n",
       "    </tr>\n",
       "    <tr>\n",
       "      <th>10</th>\n",
       "      <td>$0.50</td>\n",
       "      <td>$0.07</td>\n",
       "      <td>$0.02</td>\n",
       "      <td>5914</td>\n",
       "      <td>$9,556.28</td>\n",
       "      <td>$53,916,133.54</td>\n",
       "    </tr>\n",
       "    <tr>\n",
       "      <th>11</th>\n",
       "      <td>$0.45</td>\n",
       "      <td>$0.06</td>\n",
       "      <td>$0.02</td>\n",
       "      <td>5328</td>\n",
       "      <td>$9,556.28</td>\n",
       "      <td>$48,879,245.62</td>\n",
       "    </tr>\n",
       "    <tr>\n",
       "      <th>12</th>\n",
       "      <td>$0.40</td>\n",
       "      <td>$0.04</td>\n",
       "      <td>$0.02</td>\n",
       "      <td>4680</td>\n",
       "      <td>$9,556.28</td>\n",
       "      <td>$43,202,812.96</td>\n",
       "    </tr>\n",
       "    <tr>\n",
       "      <th>13</th>\n",
       "      <td>$0.35</td>\n",
       "      <td>$0.04</td>\n",
       "      <td>$0.01</td>\n",
       "      <td>4099</td>\n",
       "      <td>$9,556.28</td>\n",
       "      <td>$38,074,414.07</td>\n",
       "    </tr>\n",
       "    <tr>\n",
       "      <th>14</th>\n",
       "      <td>$0.30</td>\n",
       "      <td>$0.03</td>\n",
       "      <td>$0.01</td>\n",
       "      <td>3555</td>\n",
       "      <td>$9,556.28</td>\n",
       "      <td>$33,293,137.63</td>\n",
       "    </tr>\n",
       "    <tr>\n",
       "      <th>15</th>\n",
       "      <td>$0.25</td>\n",
       "      <td>$0.02</td>\n",
       "      <td>$0.01</td>\n",
       "      <td>2927</td>\n",
       "      <td>$9,556.28</td>\n",
       "      <td>$27,523,703.22</td>\n",
       "    </tr>\n",
       "    <tr>\n",
       "      <th>16</th>\n",
       "      <td>$0.20</td>\n",
       "      <td>$0.01</td>\n",
       "      <td>$0.01</td>\n",
       "      <td>2394</td>\n",
       "      <td>$9,556.28</td>\n",
       "      <td>$22,648,966.33</td>\n",
       "    </tr>\n",
       "    <tr>\n",
       "      <th>17</th>\n",
       "      <td>$0.15</td>\n",
       "      <td>$0.01</td>\n",
       "      <td>$0.00</td>\n",
       "      <td>1759</td>\n",
       "      <td>$9,556.28</td>\n",
       "      <td>$16,775,884.45</td>\n",
       "    </tr>\n",
       "    <tr>\n",
       "      <th>18</th>\n",
       "      <td>$0.10</td>\n",
       "      <td>$0.00</td>\n",
       "      <td>$0.00</td>\n",
       "      <td>1193</td>\n",
       "      <td>$9,556.28</td>\n",
       "      <td>$11,400,646.75</td>\n",
       "    </tr>\n",
       "    <tr>\n",
       "      <th>19</th>\n",
       "      <td>$0.05</td>\n",
       "      <td>$0.00</td>\n",
       "      <td>$0.00</td>\n",
       "      <td>405</td>\n",
       "      <td>$9,556.28</td>\n",
       "      <td>$3,870,295.00</td>\n",
       "    </tr>\n",
       "  </tbody>\n",
       "</table>\n",
       "</div>"
      ],
      "text/plain": [
       "    Acceptance Rate  Threshold  Bad Rate  Num Accepted Loans  Avg Loan Amnt  \\\n",
       "0             $1.00      $1.00     $0.22               11784      $9,556.28   \n",
       "1             $0.95      $0.99     $0.18               11208      $9,556.28   \n",
       "2             $0.90      $0.98     $0.13               10597      $9,556.28   \n",
       "3             $0.85      $0.80     $0.08               10016      $9,556.28   \n",
       "4             $0.80      $0.25     $0.06                9425      $9,556.28   \n",
       "5             $0.75      $0.18     $0.05                8843      $9,556.28   \n",
       "6             $0.70      $0.14     $0.04                8248      $9,556.28   \n",
       "7             $0.65      $0.11     $0.04                7653      $9,556.28   \n",
       "8             $0.60      $0.09     $0.03                7058      $9,556.28   \n",
       "9             $0.55      $0.08     $0.03                6496      $9,556.28   \n",
       "10            $0.50      $0.07     $0.02                5914      $9,556.28   \n",
       "11            $0.45      $0.06     $0.02                5328      $9,556.28   \n",
       "12            $0.40      $0.04     $0.02                4680      $9,556.28   \n",
       "13            $0.35      $0.04     $0.01                4099      $9,556.28   \n",
       "14            $0.30      $0.03     $0.01                3555      $9,556.28   \n",
       "15            $0.25      $0.02     $0.01                2927      $9,556.28   \n",
       "16            $0.20      $0.01     $0.01                2394      $9,556.28   \n",
       "17            $0.15      $0.01     $0.00                1759      $9,556.28   \n",
       "18            $0.10      $0.00     $0.00                1193      $9,556.28   \n",
       "19            $0.05      $0.00     $0.00                 405      $9,556.28   \n",
       "\n",
       "    Estimated Value  \n",
       "0    $63,287,522.50  \n",
       "1    $68,762,585.15  \n",
       "2    $74,533,204.55  \n",
       "3    $79,826,927.15  \n",
       "4    $79,079,683.08  \n",
       "5    $75,717,572.15  \n",
       "6    $72,041,690.20  \n",
       "7    $67,868,575.67  \n",
       "8    $63,401,356.95  \n",
       "9    $58,725,429.00  \n",
       "10   $53,916,133.54  \n",
       "11   $48,879,245.62  \n",
       "12   $43,202,812.96  \n",
       "13   $38,074,414.07  \n",
       "14   $33,293,137.63  \n",
       "15   $27,523,703.22  \n",
       "16   $22,648,966.33  \n",
       "17   $16,775,884.45  \n",
       "18   $11,400,646.75  \n",
       "19    $3,870,295.00  "
      ]
     },
     "execution_count": 90,
     "metadata": {},
     "output_type": "execute_result"
    }
   ],
   "source": [
    "# Marco de datos de la tabla de estrategia comercial con el valor neto\n",
    "strat_df = pd.DataFrame(zip(accept_rates, thresholds, bad_rates, num_accepted_loans, mean_loan_amnt, estimated_value), columns = ['Acceptance Rate','Threshold','Bad Rate', 'Num Accepted Loans', 'Avg Loan Amnt', 'Estimated Value'])\n",
    "strat_df"
   ]
  },
  {
   "cell_type": "code",
   "execution_count": 91,
   "metadata": {},
   "outputs": [
    {
     "data": {
      "image/png": "[encoded data removed]",
      "text/plain": [
       "<Figure size 640x480 with 1 Axes>"
      ]
     },
     "metadata": {},
     "output_type": "display_data"
    }
   ],
   "source": [
    "# Gráfico con los valores estimados\n",
    "plt.plot(strat_df['Acceptance Rate'],strat_df['Estimated Value'])\n",
    "plt.title('Estimated Value by Acceptance Rate')\n",
    "plt.xlabel('Acceptance Rate')\n",
    "plt.ylabel('Estimated Value')\n",
    "plt.show()"
   ]
  },
  {
   "cell_type": "code",
   "execution_count": 92,
   "metadata": {},
   "outputs": [
    {
     "name": "stdout",
     "output_type": "stream",
     "text": [
      "   Acceptance Rate  Threshold  Bad Rate  Num Accepted Loans  Avg Loan Amnt  \\\n",
      "3            $0.85      $0.80     $0.08               10016      $9,556.28   \n",
      "\n",
      "   Estimated Value  \n",
      "3   $79,826,927.15  \n"
     ]
    }
   ],
   "source": [
    "# Fila con el valor máximo estimado\n",
    "print(strat_df.loc[strat_df['Estimated Value'] == np.max(strat_df['Estimated Value'])])"
   ]
  },
  {
   "cell_type": "code",
   "execution_count": 93,
   "metadata": {},
   "outputs": [
    {
     "data": {
      "text/html": [
       "<div>\n",
       "<style scoped>\n",
       "    .dataframe tbody tr th:only-of-type {\n",
       "        vertical-align: middle;\n",
       "    }\n",
       "\n",
       "    .dataframe tbody tr th {\n",
       "        vertical-align: top;\n",
       "    }\n",
       "\n",
       "    .dataframe thead th {\n",
       "        text-align: right;\n",
       "    }\n",
       "</style>\n",
       "<table border=\"1\" class=\"dataframe\">\n",
       "  <thead>\n",
       "    <tr style=\"text-align: right;\">\n",
       "      <th></th>\n",
       "      <th>true_loan_status</th>\n",
       "      <th>prob_default</th>\n",
       "      <th>loss_given_default</th>\n",
       "      <th>loan_amnt</th>\n",
       "    </tr>\n",
       "  </thead>\n",
       "  <tbody>\n",
       "    <tr>\n",
       "      <th>0</th>\n",
       "      <td>1</td>\n",
       "      <td>$0.98</td>\n",
       "      <td>1</td>\n",
       "      <td>15000</td>\n",
       "    </tr>\n",
       "    <tr>\n",
       "      <th>1</th>\n",
       "      <td>1</td>\n",
       "      <td>$0.98</td>\n",
       "      <td>1</td>\n",
       "      <td>11200</td>\n",
       "    </tr>\n",
       "    <tr>\n",
       "      <th>2</th>\n",
       "      <td>0</td>\n",
       "      <td>$0.00</td>\n",
       "      <td>1</td>\n",
       "      <td>15000</td>\n",
       "    </tr>\n",
       "    <tr>\n",
       "      <th>3</th>\n",
       "      <td>0</td>\n",
       "      <td>$0.01</td>\n",
       "      <td>1</td>\n",
       "      <td>10800</td>\n",
       "    </tr>\n",
       "    <tr>\n",
       "      <th>4</th>\n",
       "      <td>1</td>\n",
       "      <td>$0.12</td>\n",
       "      <td>1</td>\n",
       "      <td>3000</td>\n",
       "    </tr>\n",
       "    <tr>\n",
       "      <th>...</th>\n",
       "      <td>...</td>\n",
       "      <td>...</td>\n",
       "      <td>...</td>\n",
       "      <td>...</td>\n",
       "    </tr>\n",
       "    <tr>\n",
       "      <th>11779</th>\n",
       "      <td>0</td>\n",
       "      <td>$0.00</td>\n",
       "      <td>1</td>\n",
       "      <td>8000</td>\n",
       "    </tr>\n",
       "    <tr>\n",
       "      <th>11780</th>\n",
       "      <td>0</td>\n",
       "      <td>$0.03</td>\n",
       "      <td>1</td>\n",
       "      <td>6600</td>\n",
       "    </tr>\n",
       "    <tr>\n",
       "      <th>11781</th>\n",
       "      <td>0</td>\n",
       "      <td>$0.11</td>\n",
       "      <td>1</td>\n",
       "      <td>16000</td>\n",
       "    </tr>\n",
       "    <tr>\n",
       "      <th>11782</th>\n",
       "      <td>0</td>\n",
       "      <td>$0.22</td>\n",
       "      <td>1</td>\n",
       "      <td>6000</td>\n",
       "    </tr>\n",
       "    <tr>\n",
       "      <th>11783</th>\n",
       "      <td>0</td>\n",
       "      <td>$0.10</td>\n",
       "      <td>1</td>\n",
       "      <td>10000</td>\n",
       "    </tr>\n",
       "  </tbody>\n",
       "</table>\n",
       "<p>11784 rows × 4 columns</p>\n",
       "</div>"
      ],
      "text/plain": [
       "       true_loan_status  prob_default  loss_given_default  loan_amnt\n",
       "0                     1         $0.98                   1      15000\n",
       "1                     1         $0.98                   1      11200\n",
       "2                     0         $0.00                   1      15000\n",
       "3                     0         $0.01                   1      10800\n",
       "4                     1         $0.12                   1       3000\n",
       "...                 ...           ...                 ...        ...\n",
       "11779                 0         $0.00                   1       8000\n",
       "11780                 0         $0.03                   1       6600\n",
       "11781                 0         $0.11                   1      16000\n",
       "11782                 0         $0.22                   1       6000\n",
       "11783                 0         $0.10                   1      10000\n",
       "\n",
       "[11784 rows x 4 columns]"
      ]
     },
     "execution_count": 93,
     "metadata": {},
     "output_type": "execute_result"
    }
   ],
   "source": [
    "# Suposición de que la exposición es el valor total del préstamo y que la pérdida en caso de incumplimiento es del 100 %.\n",
    "test_pred_df['pred_loan_status'] = 1\n",
    "test_pred_df = test_pred_df.rename(columns={'pred_loan_status':'loss_given_default'}, inplace=False)\n",
    "test_pred_df"
   ]
  },
  {
   "cell_type": "code",
   "execution_count": 94,
   "metadata": {},
   "outputs": [
    {
     "name": "stdout",
     "output_type": "stream",
     "text": [
      "Total expected loss:  $27,084,153.48\n"
     ]
    }
   ],
   "source": [
    "# Pérdida esperada del banco\n",
    "test_pred_df['expected_loss'] = test_pred_df['prob_default'] * test_pred_df['loss_given_default'] * test_pred_df['loan_amnt']\n",
    "\n",
    "# Pérdida total esperada con dos decimales\n",
    "tot_exp_loss = round(np.sum(test_pred_df['expected_loss']),2)\n",
    "\n",
    "# Pérdida total esperada\n",
    "print('Total expected loss: ', '${:,.2f}'.format(tot_exp_loss))"
   ]
  }
 ],
 "metadata": {
  "kernelspec": {
   "display_name": "Python 3",
   "language": "python",
   "name": "python3"
  },
  "language_info": {
   "codemirror_mode": {
    "name": "ipython",
    "version": 3
   },
   "file_extension": ".py",
   "mimetype": "text/x-python",
   "name": "python",
   "nbconvert_exporter": "python",
   "pygments_lexer": "ipython3",
   "version": "3.11.1 (tags/v3.11.1:a7a450f, Dec  6 2022, 19:58:39) [MSC v.1934 64 bit (AMD64)]"
  },
  "orig_nbformat": 4,
  "vscode": {
   "interpreter": {
    "hash": "efdfb32e73b645e552c8f31d9ec41f3ab6305cd783edf2831289be5dec2da8a2"
   }
  }
 },
 "nbformat": 4,
 "nbformat_minor": 2
}
